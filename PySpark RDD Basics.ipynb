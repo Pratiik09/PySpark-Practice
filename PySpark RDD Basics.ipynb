{
 "cells": [
  {
   "cell_type": "markdown",
   "id": "10965be2",
   "metadata": {},
   "source": [
    "#### Creating a Spark Session"
   ]
  },
  {
   "cell_type": "code",
   "execution_count": 9,
   "id": "c1b266c8",
   "metadata": {},
   "outputs": [
    {
     "name": "stdout",
     "output_type": "stream",
     "text": [
      "<pyspark.sql.session.SparkSession object at 0x00000269BA8CCAF0>\n"
     ]
    }
   ],
   "source": [
    "# Import findspark to locate Spark in your Python Env\n",
    "import findspark\n",
    "findspark.init()\n",
    "findspark.find()\n",
    "\n",
    "# Import SparkSession\n",
    "\n",
    "from pyspark.sql import SparkSession\n",
    "\n",
    "# Create SparkSession\n",
    "\n",
    "spark = SparkSession.builder \\\n",
    "        .master(\"local[2]\") \\\n",
    "        .appName(\"Spark Practice\") \\\n",
    "        .getOrCreate()\n",
    "\n",
    "print(spark)"
   ]
  },
  {
   "cell_type": "code",
   "execution_count": 2,
   "id": "37e8ddad",
   "metadata": {},
   "outputs": [
    {
     "name": "stdout",
     "output_type": "stream",
     "text": [
      "ParallelCollectionRDD[0] at readRDDFromFile at PythonRDD.scala:287\n",
      "('Pratik', 'DE', 20000)\n",
      "('Tina', 'PE', 25000)\n"
     ]
    }
   ],
   "source": [
    "# Create RDD from Parallelize\n",
    "data_list = [('Pratik', 'DE', 20000), ('Tina', 'PE', 25000)]\n",
    "\n",
    "rdd_list = spark.sparkContext.parallelize(data_list)\n",
    "\n",
    "print(rdd_list)\n",
    "\n",
    "# In order to see the content of RDD, we have to 1st collect it to the Driver, then we can loop throw it to see the data\n",
    "rdd_list_data = rdd_list.collect()\n",
    "\n",
    "for row in rdd_list_data:\n",
    "    print(row)"
   ]
  },
  {
   "cell_type": "code",
   "execution_count": 7,
   "id": "fb88305e",
   "metadata": {},
   "outputs": [
    {
     "name": "stdout",
     "output_type": "stream",
     "text": [
      "Data_Resources/test.txt MapPartitionsRDD[7] at textFile at NativeMethodAccessorImpl.java:0\n",
      "\n",
      "\n",
      "Alice’s Adventures in Wonderland\n",
      "by Lewis Carroll\n"
     ]
    }
   ],
   "source": [
    "# Create RDD from External Data Source\n",
    "rdd_text = spark.sparkContext.textFile(\"Data_Resources/test.txt\")\n",
    "\n",
    "print(rdd_text)\n",
    "print(\"\\n\")\n",
    "rdd_text_data = rdd_text.collect()\n",
    "\n",
    "for row in rdd_text_data:\n",
    "    print(row)"
   ]
  },
  {
   "cell_type": "code",
   "execution_count": 8,
   "id": "8b5c7f05",
   "metadata": {},
   "outputs": [
    {
     "name": "stdout",
     "output_type": "stream",
     "text": [
      "org.apache.spark.api.java.JavaPairRDD@595dde36\n",
      "\n",
      "\n",
      "('file:/C:/Users/PRATIK/Documents/Practice/PySpark_Practice/Data_Resources/test.txt', 'Alice’s Adventures in Wonderland\\nby Lewis Carroll')\n"
     ]
    }
   ],
   "source": [
    "# Whole Text File: Creates a pair where Key = File Path and Value = Whole Text File Content\n",
    "rdd_pair = spark.sparkContext.wholeTextFiles(\"Data_Resources/test.txt\")\n",
    "\n",
    "print(rdd_pair)\n",
    "print(\"\\n\")\n",
    "rdd_pair_data = rdd_pair.collect()\n",
    "\n",
    "for row in rdd_pair_data:\n",
    "    print(row)"
   ]
  },
  {
   "cell_type": "code",
   "execution_count": 5,
   "id": "7057fb24",
   "metadata": {},
   "outputs": [
    {
     "name": "stdout",
     "output_type": "stream",
     "text": [
      "<bound method SparkContext.emptyRDD of <SparkContext master=local[2] appName=Spark Practice>>\n",
      "ParallelCollectionRDD[5] at readRDDFromFile at PythonRDD.scala:287\n"
     ]
    }
   ],
   "source": [
    "# Creating a Empty RDD\n",
    "\n",
    "rdd_empty = spark.sparkContext.emptyRDD\n",
    "\n",
    "print(rdd_empty)\n",
    "\n",
    "# Empty RDD with 4 partitions (If the provided list had data, \n",
    "# then it will create a RDD with that data divided into 4 partitions)\n",
    "\n",
    "rdd_empty_partitioned = spark.sparkContext.parallelize([], 4)\n",
    "\n",
    "print(rdd_empty_partitioned)"
   ]
  },
  {
   "cell_type": "code",
   "execution_count": 6,
   "id": "38c4b217",
   "metadata": {},
   "outputs": [
    {
     "name": "stdout",
     "output_type": "stream",
     "text": [
      "Number of RDD Partitions: 4\n"
     ]
    }
   ],
   "source": [
    "# Get Num of Partitions\n",
    "\n",
    "print(\"Number of RDD Partitions:\", rdd_empty_partitioned.getNumPartitions())"
   ]
  },
  {
   "cell_type": "code",
   "execution_count": 49,
   "id": "d8e1aaea",
   "metadata": {},
   "outputs": [
    {
     "name": "stdout",
     "output_type": "stream",
     "text": [
      "Original RDD Partitions: 6\n",
      "Partition 1 : [1, 2, 3]\n",
      "Partition 2 : [4, 5, 6]\n",
      "Partition 3 : [7, 8, 9, 10]\n",
      "Partition 4 : [11, 12, 13]\n",
      "Partition 5 : [14, 15, 16]\n",
      "Partition 6 : [17, 18, 19, 20]\n"
     ]
    }
   ],
   "source": [
    "# Repartition vs Coalesce\n",
    "\"\"\"\n",
    "PySpark provides two ways to repartition\n",
    "1. repartition() method shuffles data from all nodes also called full shuffle\n",
    "- repartition() is used to increase or decrease the RDD/DataFrame partitions\n",
    "\n",
    "2. coalesce() method shuffle data from minimum nodes\n",
    "- coalesce() is used to only decrease the number of partitions in an efficient way\n",
    "\"\"\"\n",
    "import shutil\n",
    "\n",
    "rdd_big = spark.sparkContext.parallelize(range(1,21), 6)\n",
    "\n",
    "print(\"Original RDD Partitions:\",rdd_big.getNumPartitions())\n",
    "\n",
    "# output_dir = \"/Data_Resources/tmp/partition\"\n",
    "\n",
    "# # To Remove the directory before writing (if already exists, it fails)\n",
    "# shutil.rmtree(output_dir)\n",
    "\n",
    "# rdd_big.saveAsTextFile(output_dir)\n",
    "\n",
    "# rdd_data = spark.read.text(output_dir).rdd\n",
    "# # Get the partition count\n",
    "num_partitions = rdd_big.getNumPartitions()\n",
    "# print(num_partitions)\n",
    "# # Collect and print the data\n",
    "data = rdd_big.glom().collect()\n",
    "\n",
    "for i in range(num_partitions):\n",
    "    partition_data = ''.join(str(data[i]))\n",
    "    print(f\"Partition {i + 1} : {partition_data}\")\n",
    "# rdd_data = spark.read.text(output_dir).rdd\n",
    "# data = rdd_data.collect()\n",
    "# for row in data:\n",
    "#     print(row[0])"
   ]
  },
  {
   "cell_type": "code",
   "execution_count": null,
   "id": "c4275e65",
   "metadata": {},
   "outputs": [],
   "source": [
    "# rdd_repartitioned = rdd_big.repartition(3)\n",
    "\n",
    "# print(\"Repartitioned RDD Partitions:\",rdd_repartitioned.getNumPartitions())\n",
    "\n",
    "# rdd_coalesced = rdd_big.coalesce(2)\n",
    "\n",
    "# print(\"Coalesced RDD Partitions:\",rdd_coalesced.getNumPartitions())"
   ]
  }
 ],
 "metadata": {
  "kernelspec": {
   "display_name": "Python 3 (ipykernel)",
   "language": "python",
   "name": "python3"
  },
  "language_info": {
   "codemirror_mode": {
    "name": "ipython",
    "version": 3
   },
   "file_extension": ".py",
   "mimetype": "text/x-python",
   "name": "python",
   "nbconvert_exporter": "python",
   "pygments_lexer": "ipython3",
   "version": "3.10.9"
  }
 },
 "nbformat": 4,
 "nbformat_minor": 5
}
