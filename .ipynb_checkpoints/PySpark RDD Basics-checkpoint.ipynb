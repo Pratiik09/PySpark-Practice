{
 "cells": [
  {
   "cell_type": "markdown",
   "id": "10965be2",
   "metadata": {},
   "source": [
    "#### Creating a Spark Session"
   ]
  },
  {
   "cell_type": "code",
   "execution_count": 1,
   "id": "c1b266c8",
   "metadata": {},
   "outputs": [
    {
     "name": "stdout",
     "output_type": "stream",
     "text": [
      "<pyspark.sql.session.SparkSession object at 0x00000236CA70CDF0>\n"
     ]
    }
   ],
   "source": [
    "# Import findspark to locate Spark in your Python Env\n",
    "import findspark\n",
    "findspark.init()\n",
    "findspark.find()\n",
    "\n",
    "# Import SparkSession\n",
    "\n",
    "from pyspark.sql import SparkSession\n",
    "\n",
    "# Create SparkSession\n",
    "\n",
    "spark = SparkSession.builder \\\n",
    "        .master(\"local[4]\") \\\n",
    "        .appName(\"Spark Practice\") \\\n",
    "        .getOrCreate()\n",
    "\n",
    "print(spark)"
   ]
  },
  {
   "cell_type": "code",
   "execution_count": 11,
   "id": "37e8ddad",
   "metadata": {},
   "outputs": [
    {
     "name": "stdout",
     "output_type": "stream",
     "text": [
      "ParallelCollectionRDD[19] at readRDDFromFile at PythonRDD.scala:287\n",
      "Num Partitions: 4\n",
      "('Emp1', 'DE', 20000)\n",
      "('Emp2', 'PE', 25000)\n"
     ]
    }
   ],
   "source": [
    "# Create RDD from Parallelize\n",
    "data_list = [('Emp1', 'DE', 20000), ('Emp2', 'PE', 25000)]\n",
    "\n",
    "rdd_list = spark.sparkContext.parallelize(data_list)\n",
    "\n",
    "print(rdd_list)\n",
    "print(\"Num Partitions:\", rdd_list.getNumPartitions())\n",
    "\n",
    "# In order to see the content of RDD, we have to 1st collect it to the Driver, then we can loop through it to see the data\n",
    "rdd_list_data = rdd_list.collect()\n",
    "\n",
    "for row in rdd_list_data:\n",
    "    print(row)"
   ]
  },
  {
   "cell_type": "code",
   "execution_count": 12,
   "id": "fb88305e",
   "metadata": {},
   "outputs": [
    {
     "name": "stdout",
     "output_type": "stream",
     "text": [
      "Data_Resources/test.txt MapPartitionsRDD[21] at textFile at NativeMethodAccessorImpl.java:0\n",
      "\n",
      "\n",
      "Alice’s Adventures in Wonderland\n",
      "by Lewis Carroll\n"
     ]
    }
   ],
   "source": [
    "# Create RDD from External Data Source\n",
    "rdd_text = spark.sparkContext.textFile(\"Data_Resources/test.txt\")\n",
    "\n",
    "print(rdd_text)\n",
    "print(\"\\n\")\n",
    "rdd_text_data = rdd_text.collect()\n",
    "\n",
    "for row in rdd_text_data:\n",
    "    print(row)"
   ]
  },
  {
   "cell_type": "code",
   "execution_count": 13,
   "id": "8b5c7f05",
   "metadata": {},
   "outputs": [
    {
     "name": "stdout",
     "output_type": "stream",
     "text": [
      "org.apache.spark.api.java.JavaPairRDD@a2cca44\n",
      "\n",
      "\n",
      "('file:/c:/Users/PRATIK/Documents/Practice/PySpark_Practice/Data_Resources/test.txt', 'Alice’s Adventures in Wonderland\\nby Lewis Carroll')\n"
     ]
    }
   ],
   "source": [
    "# Whole Text File: Creates a pair where Key = File Path and Value = Whole Text File Content\n",
    "rdd_pair = spark.sparkContext.wholeTextFiles(\"Data_Resources/test.txt\")\n",
    "\n",
    "print(rdd_pair)\n",
    "print(\"\\n\")\n",
    "rdd_pair_data = rdd_pair.collect()\n",
    "\n",
    "for row in rdd_pair_data:\n",
    "    print(row)"
   ]
  },
  {
   "cell_type": "code",
   "execution_count": 14,
   "id": "7057fb24",
   "metadata": {},
   "outputs": [
    {
     "name": "stdout",
     "output_type": "stream",
     "text": [
      "<bound method SparkContext.emptyRDD of <SparkContext master=local[4] appName=Spark Practice>>\n",
      "ParallelCollectionRDD[24] at readRDDFromFile at PythonRDD.scala:287\n",
      "Number of RDD Partitions: 4\n"
     ]
    }
   ],
   "source": [
    "# Creating a Empty RDD\n",
    "\n",
    "rdd_empty = spark.sparkContext.emptyRDD\n",
    "\n",
    "print(rdd_empty)\n",
    "\n",
    "# Empty RDD with 4 partitions (If the provided list had data, \n",
    "# then it will create a RDD with that data divided into 4 partitions)\n",
    "\n",
    "rdd_empty_partitioned = spark.sparkContext.parallelize([], 4)\n",
    "\n",
    "print(rdd_empty_partitioned)\n",
    "\n",
    "# Get Num of Partitions\n",
    "\n",
    "print(\"Number of RDD Partitions:\", rdd_empty_partitioned.getNumPartitions())"
   ]
  },
  {
   "cell_type": "code",
   "execution_count": 15,
   "id": "d8e1aaea",
   "metadata": {},
   "outputs": [
    {
     "name": "stdout",
     "output_type": "stream",
     "text": [
      "Original RDD Partitions: 4\n",
      "glom() Collect: [[0, 2, 4, 6, 8, 10, 12, 14, 16, 18, 20, 22], [24, 26, 28, 30, 32, 34, 36, 38, 40, 42, 44, 46, 48], [50, 52, 54, 56, 58, 60, 62, 64, 66, 68, 70, 72], [74, 76, 78, 80, 82, 84, 86, 88, 90, 92, 94, 96, 98]]\n",
      "Partition 0: [0, 2, 4, 6, 8, 10, 12, 14, 16, 18, 20, 22]\n",
      "Partition 1: [24, 26, 28, 30, 32, 34, 36, 38, 40, 42, 44, 46, 48]\n",
      "Partition 2: [50, 52, 54, 56, 58, 60, 62, 64, 66, 68, 70, 72]\n",
      "Partition 3: [74, 76, 78, 80, 82, 84, 86, 88, 90, 92, 94, 96, 98]\n"
     ]
    }
   ],
   "source": [
    "# Repartition vs Coalesce\n",
    "\n",
    "# PySpark provides two ways to repartition\n",
    "# 1. repartition() method shuffles data from all nodes also called full shuffle\n",
    "# - repartition() is used to increase or decrease the RDD/DataFrame partitions\n",
    "\n",
    "# 2. coalesce() method shuffle data from minimum nodes\n",
    "# - coalesce() is used to only decrease the number of partitions in an efficient way\n",
    "\n",
    "# Note: Both are very expensive operations as they shuffle the data across many partitions hence try to minimize using these as much as possible\n",
    "\n",
    "import shutil, os\n",
    "\n",
    "rdd_big = spark.sparkContext.parallelize(range(0,100, 2), 4)\n",
    "\n",
    "num_partitions = rdd_big.getNumPartitions()\n",
    "print(\"Original RDD Partitions:\",num_partitions)\n",
    "\n",
    "# glom() to coalesce all elements within each partition into a list\n",
    "data = rdd_big.glom().collect()\n",
    "print(\"glom() Collect:\",data)\n",
    "\n",
    "# Data from each partition\n",
    "part_data_map = enumerate(data)\n",
    "for row in part_data_map:\n",
    "    print(\"Partition {}: {}\".format(row[0], row[1]))\n",
    "\n",
    "# Writing as Text files\n",
    "output_dir = \"Data_Resources/tmp/partition\"\n",
    "\n",
    "# To Remove the directory before writing (as if dir already exists, it fails)\n",
    "if os.path.exists(output_dir):\n",
    "    shutil.rmtree(output_dir)\n",
    "\n",
    "rdd_big.saveAsTextFile(\"Data_Resources/tmp/partition\")"
   ]
  },
  {
   "cell_type": "code",
   "execution_count": 16,
   "id": "c4275e65",
   "metadata": {},
   "outputs": [
    {
     "name": "stdout",
     "output_type": "stream",
     "text": [
      "Repartitioned RDD Partitions: 8\n",
      "Partition 0: [50, 52, 54, 56, 58, 60, 62, 64, 66, 68]\n",
      "Partition 1: [70, 72]\n",
      "Partition 2: [0, 2, 4, 6, 8, 10, 12, 14, 16, 18, 24, 26, 28, 30, 32, 34, 36, 38, 40, 42]\n",
      "Partition 3: [20, 22, 44, 46, 48]\n",
      "Partition 4: []\n",
      "Partition 5: []\n",
      "Partition 6: [74, 76, 78, 80, 82, 84, 86, 88, 90, 92]\n",
      "Partition 7: [94, 96, 98]\n"
     ]
    }
   ],
   "source": [
    "# Repartition Example (Used to Reduce or Increase partitions)\n",
    "# Data is shuffled from all nodes across all partitions (Full Shuffle)\n",
    "\n",
    "rdd_repartitioned = rdd_big.repartition(8)\n",
    "\n",
    "print(\"Repartitioned RDD Partitions:\",rdd_repartitioned.getNumPartitions())\n",
    "\n",
    "data = rdd_repartitioned.glom().collect()\n",
    "\n",
    "# Data from each partition\n",
    "part_data_map = enumerate(data)\n",
    "for row in part_data_map:\n",
    "    print(\"Partition {}: {}\".format(row[0], row[1]))"
   ]
  },
  {
   "cell_type": "code",
   "execution_count": 17,
   "id": "208e31ed",
   "metadata": {},
   "outputs": [
    {
     "name": "stdout",
     "output_type": "stream",
     "text": [
      "Coalesced RDD Partitions: 3\n",
      "Partition 0: [50, 52, 54, 56, 58, 60, 62, 64, 66, 68, 70, 72]\n",
      "Partition 1: [94, 96, 98, 20, 22, 44, 46, 48]\n",
      "Partition 2: [0, 2, 4, 6, 8, 10, 12, 14, 16, 18, 24, 26, 28, 30, 32, 34, 36, 38, 40, 42, 74, 76, 78, 80, 82, 84, 86, 88, 90, 92]\n"
     ]
    }
   ],
   "source": [
    "# Coalesce Example (Used to only Reduce partitions) Note: If tried to increase, it takes Current partition as Max and keeps the RDD same\n",
    "# Optimized Version of Repartition - Data from minimum nodes and paritions is shuffled\n",
    "\n",
    "rdd_coalesced = rdd_repartitioned.coalesce(3)\n",
    "\n",
    "print(\"Coalesced RDD Partitions:\",rdd_coalesced.getNumPartitions())\n",
    "\n",
    "data = rdd_coalesced.glom().collect()\n",
    "\n",
    "# Data from each partition\n",
    "part_data_map = enumerate(data)\n",
    "for row in part_data_map:\n",
    "    print(\"Partition {}: {}\".format(row[0], row[1]))"
   ]
  }
 ],
 "metadata": {
  "kernelspec": {
   "display_name": "Python 3 (ipykernel)",
   "language": "python",
   "name": "python3"
  },
  "language_info": {
   "codemirror_mode": {
    "name": "ipython",
    "version": 3
   },
   "file_extension": ".py",
   "mimetype": "text/x-python",
   "name": "python",
   "nbconvert_exporter": "python",
   "pygments_lexer": "ipython3",
   "version": "3.10.9"
  }
 },
 "nbformat": 4,
 "nbformat_minor": 5
}
