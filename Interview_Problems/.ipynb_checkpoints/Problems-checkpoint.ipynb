{
 "cells": [
  {
   "cell_type": "code",
   "execution_count": 1,
   "metadata": {},
   "outputs": [
    {
     "name": "stdout",
     "output_type": "stream",
     "text": [
      "<pyspark.sql.session.SparkSession object at 0x0000014F9BD20AF0>\n"
     ]
    }
   ],
   "source": [
    "import findspark\n",
    "findspark.init()\n",
    "findspark.find()\n",
    "\n",
    "from pyspark.sql import SparkSession\n",
    "\n",
    "spark = SparkSession.builder.appName(\"Interview_Problems\").getOrCreate()\n",
    "\n",
    "print(spark)"
   ]
  },
  {
   "cell_type": "code",
   "execution_count": 14,
   "metadata": {},
   "outputs": [
    {
     "name": "stdout",
     "output_type": "stream",
     "text": [
      "+---+-----+----------------------------------+-------------------------------------------------------------------+\n",
      "|id |name |address                           |grades                                                             |\n",
      "+---+-----+----------------------------------+-------------------------------------------------------------------+\n",
      "|1  |John |{city -> New York, state -> NY}   |[{score -> 90, subject -> Math}, {score -> 85, subject -> Science}]|\n",
      "|2  |Baby |{city -> Los Angeles, state -> CA}|[{score -> 85, subject -> Math}, {score -> 88, subject -> Science}]|\n",
      "|3  |Emily|{city -> Houston, state -> TX}    |[{score -> 88, subject -> Math}, {score -> 90, subject -> Science}]|\n",
      "+---+-----+----------------------------------+-------------------------------------------------------------------+\n",
      "\n",
      "+---+-----+------------+-------------+--------------+------------+\n",
      "|id |name |address_city|address_state|grades_subject|grades_score|\n",
      "+---+-----+------------+-------------+--------------+------------+\n",
      "|1  |John |New York    |NY           |Math          |90          |\n",
      "|1  |John |New York    |NY           |Science       |85          |\n",
      "|2  |Baby |Los Angeles |CA           |Math          |85          |\n",
      "|2  |Baby |Los Angeles |CA           |Science       |88          |\n",
      "|3  |Emily|Houston     |TX           |Math          |88          |\n",
      "|3  |Emily|Houston     |TX           |Science       |90          |\n",
      "+---+-----+------------+-------------+--------------+------------+\n",
      "\n"
     ]
    }
   ],
   "source": [
    "### Problem 1 - Flatten Nested Data ###\n",
    "from pyspark.sql.functions import col, explode\n",
    "\n",
    "# Sample nested JSON data\n",
    "nested_data = [\n",
    "    (1, \"John\", {\"city\": \"New York\", \"state\": \"NY\"}, [{\"subject\": \"Math\", \"score\": 90}, {\"subject\": \"Science\", \"score\": 85}]),\n",
    "    (2, \"Baby\", {\"city\": \"Los Angeles\", \"state\": \"CA\"}, [{\"subject\": \"Math\", \"score\": 85}, {\"subject\": \"Science\", \"score\": 88}]),\n",
    "    (3, \"Emily\", {\"city\": \"Houston\", \"state\": \"TX\"}, [{\"subject\": \"Math\", \"score\": 88}, {\"subject\": \"Science\", \"score\": 90}])\n",
    "]\n",
    "\n",
    "# Create a DataFrame from the nested data\n",
    "df = spark.createDataFrame(nested_data, [\"id\", \"name\", \"address\", \"grades\"])\n",
    "\n",
    "df.show(truncate=False)\n",
    "# Map elements are accessed using .(Dot) Notation\n",
    "\n",
    "# Flatten the nested data\n",
    "df_flat = df.select(\n",
    "    col(\"id\"),\n",
    "    col(\"name\"),\n",
    "    col(\"address.city\").alias(\"address_city\"),\n",
    "    col(\"address.state\").alias(\"address_state\"),\n",
    "    explode(col(\"grades\")).alias(\"grade\")\n",
    ").select(\n",
    "    col(\"id\"),\n",
    "    col(\"name\"),\n",
    "    col(\"address_city\"),\n",
    "    col(\"address_state\"),\n",
    "    col(\"grade.subject\").alias(\"grades_subject\"),\n",
    "    col(\"grade.score\").alias(\"grades_score\")\n",
    ")\n",
    "\n",
    "# Nested structure where one entity has multiple nested elements (like multiple grades for a student), \n",
    "# when flattened, each combination of the outer entity and its nested elements becomes a separate row in the flattened table\n",
    "\n",
    "# Show the flattened DataFrame\n",
    "df_flat.show(truncate=False)"
   ]
  },
  {
   "cell_type": "code",
   "execution_count": null,
   "metadata": {},
   "outputs": [],
   "source": []
  }
 ],
 "metadata": {
  "kernelspec": {
   "display_name": "Python 3 (ipykernel)",
   "language": "python",
   "name": "python3"
  },
  "language_info": {
   "codemirror_mode": {
    "name": "ipython",
    "version": 3
   },
   "file_extension": ".py",
   "mimetype": "text/x-python",
   "name": "python",
   "nbconvert_exporter": "python",
   "pygments_lexer": "ipython3",
   "version": "3.10.9"
  }
 },
 "nbformat": 4,
 "nbformat_minor": 2
}
