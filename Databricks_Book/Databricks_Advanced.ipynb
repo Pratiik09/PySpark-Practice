{
 "cells": [
  {
   "cell_type": "code",
   "execution_count": 1,
   "metadata": {},
   "outputs": [
    {
     "name": "stdout",
     "output_type": "stream",
     "text": [
      "Spark Session Details: <pyspark.sql.session.SparkSession object at 0x000002C1BB617940>\n"
     ]
    }
   ],
   "source": [
    "# Import findspark to locate Spark in your Python Env\n",
    "import findspark\n",
    "findspark.init()\n",
    "findspark.find()\n",
    "\n",
    "# Import SparkSession\n",
    "\n",
    "from pyspark.sql import SparkSession\n",
    "\n",
    "# Create SparkSession\n",
    "\n",
    "spark = SparkSession.builder \\\n",
    "        .master(\"local\") \\\n",
    "        .appName(\"PySpark Databricks\") \\\n",
    "        .getOrCreate()\n",
    "\n",
    "print(\"Spark Session Details:\",spark)"
   ]
  },
  {
   "cell_type": "code",
   "execution_count": 2,
   "metadata": {},
   "outputs": [
    {
     "name": "stdout",
     "output_type": "stream",
     "text": [
      "+---------+---------+--------------------+--------+-------------------+---------+----------+--------------+\n",
      "|InvoiceNo|StockCode|         Description|Quantity|        InvoiceDate|UnitPrice|CustomerID|       Country|\n",
      "+---------+---------+--------------------+--------+-------------------+---------+----------+--------------+\n",
      "|   536365|   85123A|RED WHITE HANGING...|       6|2010-12-01 08:26:00|     2.55|   17850.0|United Kingdom|\n",
      "|   536365|    71053| WHITE METAL LANTERN|       6|2010-12-01 08:26:00|     3.39|   17850.0|United Kingdom|\n",
      "|   536365|   84406B|CREAM CUPID HEART...|       8|2010-12-02 08:26:00|     2.75|   17850.0|United Kingdom|\n",
      "|   536365|   84029G|KNITTED UNION FLA...|       6|2010-12-01 08:26:00|     3.39|   17850.0|United Kingdom|\n",
      "|   536365|   84029E|RED WOOLLY HOTTIE...|       6|2010-12-01 08:26:00|     3.39|   17850.0|United Kingdom|\n",
      "|   536365|    22752|SET 7 BABUSHKA NE...|       2|2010-12-03 08:26:00|     7.65|   17850.0|United Kingdom|\n",
      "|   536365|    21730|GLASS STAR FROSTE...|       6|2010-12-01 08:26:00|     4.25|   17850.0|United Kingdom|\n",
      "|   536366|    22633|HAND WARMER UNION...|       6|2010-12-05 08:28:00|     1.85|   17850.0|United Kingdom|\n",
      "|   536366|    22632|HAND WARMER RED P...|       6|2010-12-01 08:28:00|     1.85|   17850.0|United Kingdom|\n",
      "|   536367|    84879|ASSORTED COLOUR B...|      32|2010-12-03 08:34:00|     1.69|   13047.0|United Kingdom|\n",
      "|   536367|    84879|                null|      32|2010-12-03 08:34:00|     1.69|   13047.0|United Kingdom|\n",
      "+---------+---------+--------------------+--------+-------------------+---------+----------+--------------+\n",
      "\n"
     ]
    }
   ],
   "source": [
    "df = spark.read.format(\"csv\")\\\n",
    "    .option(\"header\", \"true\")\\\n",
    "    .option(\"inferSchema\", \"true\")\\\n",
    "    .load(\"Data_Files/Retail.csv\")\n",
    "\n",
    "df.show()"
   ]
  },
  {
   "cell_type": "code",
   "execution_count": 13,
   "metadata": {},
   "outputs": [
    {
     "name": "stdout",
     "output_type": "stream",
     "text": [
      "+----------------------------------------------------+---------+---------+------------------------------------------+--------+-------------------+---------+----------+--------------+\n",
      "|complex                                             |InvoiceNo|StockCode|Description                               |Quantity|InvoiceDate        |UnitPrice|CustomerID|Country       |\n",
      "+----------------------------------------------------+---------+---------+------------------------------------------+--------+-------------------+---------+----------+--------------+\n",
      "|{RED WHITE HANGING RED HEART T-LIGHT HOLDER, 536365}|536365   |85123A   |RED WHITE HANGING RED HEART T-LIGHT HOLDER|6       |2010-12-01 08:26:00|2.55     |17850.0   |United Kingdom|\n",
      "|{WHITE METAL LANTERN, 536365}                       |536365   |71053    |WHITE METAL LANTERN                       |6       |2010-12-01 08:26:00|3.39     |17850.0   |United Kingdom|\n",
      "+----------------------------------------------------+---------+---------+------------------------------------------+--------+-------------------+---------+----------+--------------+\n",
      "\n",
      "+----------------------------------------------------+---------+---------+------------------------------------------+--------+-------------------+---------+----------+--------------+\n",
      "|complex                                             |InvoiceNo|StockCode|Description                               |Quantity|InvoiceDate        |UnitPrice|CustomerID|Country       |\n",
      "+----------------------------------------------------+---------+---------+------------------------------------------+--------+-------------------+---------+----------+--------------+\n",
      "|{WHITE METAL LANTERN, 536365}                       |536365   |71053    |WHITE METAL LANTERN                       |6       |2010-12-01 08:26:00|3.39     |17850.0   |United Kingdom|\n",
      "|{RED WHITE HANGING RED HEART T-LIGHT HOLDER, 536365}|536365   |85123A   |RED WHITE HANGING RED HEART T-LIGHT HOLDER|6       |2010-12-01 08:26:00|2.55     |17850.0   |United Kingdom|\n",
      "+----------------------------------------------------+---------+---------+------------------------------------------+--------+-------------------+---------+----------+--------------+\n",
      "\n"
     ]
    }
   ],
   "source": [
    "from pyspark.sql.functions import col\n",
    "\n",
    "df.selectExpr(\"(Description, InvoiceNo) as complex\", \"*\")\\\n",
    "    .limit(2)\\\n",
    "    .show(truncate=False)\n",
    "\n",
    "# OR In Parenthesis or with struct Keyword\n",
    "\n",
    "df.selectExpr(\"struct(Description, InvoiceNo) as complex\", \"*\")\\\n",
    "    .limit(2)\\\n",
    "    .orderBy(col(\"StockCode\").asc())\\\n",
    "    .show(truncate=False)"
   ]
  },
  {
   "cell_type": "code",
   "execution_count": 16,
   "metadata": {},
   "outputs": [],
   "source": [
    "from pyspark.sql.functions import struct\n",
    "\n",
    "complexDF = df.select(\n",
    "    struct(\"Description\", \"InvoiceNo\").alias(\"complex\")\n",
    ")\n",
    "\n",
    "complexDF.createOrReplaceTempView(\"complexDFTable\")"
   ]
  },
  {
   "cell_type": "code",
   "execution_count": 20,
   "metadata": {},
   "outputs": [
    {
     "name": "stdout",
     "output_type": "stream",
     "text": [
      "+---------+\n",
      "|InvoiceNo|\n",
      "+---------+\n",
      "|   536365|\n",
      "|   536365|\n",
      "|   536365|\n",
      "|   536365|\n",
      "|   536365|\n",
      "+---------+\n",
      "\n",
      "+--------------------+\n",
      "| complex.Description|\n",
      "+--------------------+\n",
      "|RED WHITE HANGING...|\n",
      "| WHITE METAL LANTERN|\n",
      "|CREAM CUPID HEART...|\n",
      "|KNITTED UNION FLA...|\n",
      "|RED WOOLLY HOTTIE...|\n",
      "+--------------------+\n",
      "\n",
      "+--------------------+---------+\n",
      "|         Description|InvoiceNo|\n",
      "+--------------------+---------+\n",
      "|RED WHITE HANGING...|   536365|\n",
      "| WHITE METAL LANTERN|   536365|\n",
      "+--------------------+---------+\n",
      "only showing top 2 rows\n",
      "\n"
     ]
    }
   ],
   "source": [
    "# Querying Struct with . Notation\n",
    "\n",
    "complexDF.select(\"complex.InvoiceNo\").limit(5).show()\n",
    "\n",
    "complexDF.select(col(\"complex\").getField(\"Description\")).limit(5).show()\n",
    "\n",
    "complexDF.select(\"complex.*\").show(2)"
   ]
  },
  {
   "cell_type": "code",
   "execution_count": 22,
   "metadata": {},
   "outputs": [
    {
     "name": "stdout",
     "output_type": "stream",
     "text": [
      "+--------------------+---------+\n",
      "|         Description|InvoiceNo|\n",
      "+--------------------+---------+\n",
      "|RED WHITE HANGING...|   536365|\n",
      "| WHITE METAL LANTERN|   536365|\n",
      "|CREAM CUPID HEART...|   536365|\n",
      "|KNITTED UNION FLA...|   536365|\n",
      "|RED WOOLLY HOTTIE...|   536365|\n",
      "|SET 7 BABUSHKA NE...|   536365|\n",
      "|GLASS STAR FROSTE...|   536365|\n",
      "|HAND WARMER UNION...|   536366|\n",
      "|HAND WARMER RED P...|   536366|\n",
      "|ASSORTED COLOUR B...|   536367|\n",
      "|                null|   536367|\n",
      "+--------------------+---------+\n",
      "\n"
     ]
    }
   ],
   "source": [
    "spark.sql(\"\"\"\n",
    "SELECT\n",
    "    complex.*\n",
    "FROM complexDFTable\n",
    "\"\"\").show()"
   ]
  },
  {
   "cell_type": "code",
   "execution_count": 55,
   "metadata": {},
   "outputs": [
    {
     "name": "stdout",
     "output_type": "stream",
     "text": [
      "+--------------------------------------------------+\n",
      "|split(Description,  , -1)                         |\n",
      "+--------------------------------------------------+\n",
      "|[RED, WHITE, HANGING, RED, HEART, T-LIGHT, HOLDER]|\n",
      "|[WHITE, METAL, LANTERN]                           |\n",
      "|[CREAM, CUPID, HEARTS, COAT, HANGER]              |\n",
      "|[KNITTED, UNION, FLAG, HOT, WATER, BOTTLE]        |\n",
      "|[RED, WOOLLY, HOTTIE, WHITE, HEART.]              |\n",
      "|[SET, 7, BABUSHKA, NESTING, BOXES]                |\n",
      "|[GLASS, STAR, FROSTED, T-LIGHT, HOLDER]           |\n",
      "|[HAND, WARMER, UNION, JACK]                       |\n",
      "|[HAND, WARMER, RED, POLKA, DOT]                   |\n",
      "|[ASSORTED, COLOUR, BIRD, ORNAMENT]                |\n",
      "|null                                              |\n",
      "+--------------------------------------------------+\n",
      "\n"
     ]
    }
   ],
   "source": [
    "# Arrays\n",
    "from pyspark.sql.functions import split, size, array_contains\n",
    "\n",
    "df.select(split( col(\"Description\"), \" \")).show(truncate=False)"
   ]
  },
  {
   "cell_type": "code",
   "execution_count": 56,
   "metadata": {},
   "outputs": [
    {
     "name": "stdout",
     "output_type": "stream",
     "text": [
      "+--------------+--------------------+\n",
      "|split_array[0]|         split_array|\n",
      "+--------------+--------------------+\n",
      "|           RED|[RED, WHITE, HANG...|\n",
      "|         WHITE|[WHITE, METAL, LA...|\n",
      "|         CREAM|[CREAM, CUPID, HE...|\n",
      "|       KNITTED|[KNITTED, UNION, ...|\n",
      "|           RED|[RED, WOOLLY, HOT...|\n",
      "|           SET|[SET, 7, BABUSHKA...|\n",
      "|         GLASS|[GLASS, STAR, FRO...|\n",
      "|          HAND|[HAND, WARMER, UN...|\n",
      "|          HAND|[HAND, WARMER, RE...|\n",
      "|      ASSORTED|[ASSORTED, COLOUR...|\n",
      "|          null|                null|\n",
      "+--------------+--------------------+\n",
      "\n"
     ]
    }
   ],
   "source": [
    "# Array Index\n",
    "split_df = df.select(\n",
    "    split( col(\"Description\"), \" \").alias(\"split_array\"))\\\n",
    "    .selectExpr(\"split_array[0]\", \"split_array\")\n",
    "\n",
    "split_df.show()\n",
    "    "
   ]
  },
  {
   "cell_type": "code",
   "execution_count": 57,
   "metadata": {},
   "outputs": [
    {
     "name": "stdout",
     "output_type": "stream",
     "text": [
      "+-----------------+--------------------------------------------------+\n",
      "|size(split_array)|split_array                                       |\n",
      "+-----------------+--------------------------------------------------+\n",
      "|7                |[RED, WHITE, HANGING, RED, HEART, T-LIGHT, HOLDER]|\n",
      "|3                |[WHITE, METAL, LANTERN]                           |\n",
      "|5                |[CREAM, CUPID, HEARTS, COAT, HANGER]              |\n",
      "|6                |[KNITTED, UNION, FLAG, HOT, WATER, BOTTLE]        |\n",
      "|5                |[RED, WOOLLY, HOTTIE, WHITE, HEART.]              |\n",
      "|5                |[SET, 7, BABUSHKA, NESTING, BOXES]                |\n",
      "|5                |[GLASS, STAR, FROSTED, T-LIGHT, HOLDER]           |\n",
      "|4                |[HAND, WARMER, UNION, JACK]                       |\n",
      "|5                |[HAND, WARMER, RED, POLKA, DOT]                   |\n",
      "|4                |[ASSORTED, COLOUR, BIRD, ORNAMENT]                |\n",
      "|-1               |null                                              |\n",
      "+-----------------+--------------------------------------------------+\n",
      "\n"
     ]
    }
   ],
   "source": [
    "# Array length\n",
    "split_df.select(size(col(\"split_array\")), \"split_array\").show(truncate=False)"
   ]
  },
  {
   "cell_type": "code",
   "execution_count": 59,
   "metadata": {},
   "outputs": [
    {
     "name": "stdout",
     "output_type": "stream",
     "text": [
      "+---------------------------------+\n",
      "|array_contains(split_array, HAND)|\n",
      "+---------------------------------+\n",
      "|                            false|\n",
      "|                            false|\n",
      "|                            false|\n",
      "|                            false|\n",
      "|                            false|\n",
      "|                            false|\n",
      "|                            false|\n",
      "|                             true|\n",
      "|                             true|\n",
      "|                            false|\n",
      "|                             null|\n",
      "+---------------------------------+\n",
      "\n"
     ]
    }
   ],
   "source": [
    "split_df.select(array_contains(\"split_array\", \"HAND\")).show()"
   ]
  },
  {
   "cell_type": "code",
   "execution_count": null,
   "metadata": {},
   "outputs": [],
   "source": []
  }
 ],
 "metadata": {
  "kernelspec": {
   "display_name": "base",
   "language": "python",
   "name": "python3"
  },
  "language_info": {
   "codemirror_mode": {
    "name": "ipython",
    "version": 3
   },
   "file_extension": ".py",
   "mimetype": "text/x-python",
   "name": "python",
   "nbconvert_exporter": "python",
   "pygments_lexer": "ipython3",
   "version": "3.10.9"
  }
 },
 "nbformat": 4,
 "nbformat_minor": 2
}
