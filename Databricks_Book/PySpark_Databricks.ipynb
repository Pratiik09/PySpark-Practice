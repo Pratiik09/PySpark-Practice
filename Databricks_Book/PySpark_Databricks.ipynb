{
 "cells": [
  {
   "cell_type": "code",
   "execution_count": 1,
   "metadata": {},
   "outputs": [
    {
     "name": "stdout",
     "output_type": "stream",
     "text": [
      "Spark Session Details: <pyspark.sql.session.SparkSession object at 0x000001DD6D0ABA60>\n"
     ]
    }
   ],
   "source": [
    "# Import findspark to locate Spark in your Python Env\n",
    "import findspark\n",
    "findspark.init()\n",
    "findspark.find()\n",
    "\n",
    "# Import SparkSession\n",
    "\n",
    "from pyspark.sql import SparkSession\n",
    "\n",
    "# Create SparkSession\n",
    "\n",
    "spark = SparkSession.builder \\\n",
    "        .master(\"local\") \\\n",
    "        .appName(\"PySpark Databricks\") \\\n",
    "        .getOrCreate()\n",
    "\n",
    "print(\"Spark Session Details:\",spark)"
   ]
  },
  {
   "cell_type": "code",
   "execution_count": 2,
   "metadata": {},
   "outputs": [
    {
     "name": "stdout",
     "output_type": "stream",
     "text": [
      "+------+\n",
      "|number|\n",
      "+------+\n",
      "|     0|\n",
      "|     1|\n",
      "|     2|\n",
      "|     3|\n",
      "|     4|\n",
      "+------+\n",
      "\n"
     ]
    }
   ],
   "source": [
    "# Range toDF\n",
    "my_range = spark.range(5).toDF(\"number\")\n",
    "my_range.show()"
   ]
  },
  {
   "cell_type": "code",
   "execution_count": 3,
   "metadata": {},
   "outputs": [
    {
     "name": "stdout",
     "output_type": "stream",
     "text": [
      "+------+\n",
      "|number|\n",
      "+------+\n",
      "|     0|\n",
      "|     2|\n",
      "|     4|\n",
      "+------+\n",
      "\n"
     ]
    }
   ],
   "source": [
    "# Using Where for Evens \n",
    "evens = my_range.where(\"number % 2 = 0\")\n",
    "evens.show()"
   ]
  },
  {
   "cell_type": "code",
   "execution_count": 4,
   "metadata": {},
   "outputs": [
    {
     "data": {
      "text/plain": [
       "[Row(DEST_COUNTRY_NAME='United States', ORIGIN_COUNTRY_NAME='Romania', count=15),\n",
       " Row(DEST_COUNTRY_NAME='United States', ORIGIN_COUNTRY_NAME='Croatia', count=1),\n",
       " Row(DEST_COUNTRY_NAME='United States', ORIGIN_COUNTRY_NAME='Ireland', count=344)]"
      ]
     },
     "execution_count": 4,
     "metadata": {},
     "output_type": "execute_result"
    }
   ],
   "source": [
    "# Read CSV with InferSchema and Headers\n",
    "# Read is a Transformation. Thus, it has Lazy Evaluation\n",
    "\n",
    "flightData2015 = spark.read \\\n",
    "    .option(\"inferschema\", \"true\") \\\n",
    "    .option(\"header\",\"true\") \\\n",
    "    .csv(\"Data_Files\\Flights.csv\")\n",
    "\n",
    "flightData2015.take(3)"
   ]
  },
  {
   "cell_type": "code",
   "execution_count": 5,
   "metadata": {},
   "outputs": [
    {
     "name": "stdout",
     "output_type": "stream",
     "text": [
      "== Physical Plan ==\n",
      "AdaptiveSparkPlan isFinalPlan=false\n",
      "+- Sort [count#33 ASC NULLS FIRST], true, 0\n",
      "   +- Exchange rangepartitioning(count#33 ASC NULLS FIRST, 200), ENSURE_REQUIREMENTS, [plan_id=53]\n",
      "      +- FileScan csv [DEST_COUNTRY_NAME#31,ORIGIN_COUNTRY_NAME#32,count#33] Batched: false, DataFilters: [], Format: CSV, Location: InMemoryFileIndex(1 paths)[file:/c:/Users/PRATIK/Documents/Practice/PySpark_Practice/Databricks_B..., PartitionFilters: [], PushedFilters: [], ReadSchema: struct<DEST_COUNTRY_NAME:string,ORIGIN_COUNTRY_NAME:string,count:int>\n",
      "\n",
      "\n"
     ]
    }
   ],
   "source": [
    "# Explain - Physical Plan\n",
    "\n",
    "flightData2015.sort(\"count\").explain()"
   ]
  },
  {
   "cell_type": "code",
   "execution_count": 6,
   "metadata": {},
   "outputs": [
    {
     "data": {
      "text/plain": [
       "[Row(DEST_COUNTRY_NAME='United States', ORIGIN_COUNTRY_NAME='Croatia', count=1),\n",
       " Row(DEST_COUNTRY_NAME='Ireland', ORIGIN_COUNTRY_NAME='Afganistan', count=2)]"
      ]
     },
     "execution_count": 6,
     "metadata": {},
     "output_type": "execute_result"
    }
   ],
   "source": [
    "spark.conf.set(\"spark.sql.shuffle.partitions\",\"5\")      # Set to 5, Becoz Default Shuffle Partitions is 200\n",
    "\n",
    "flightData2015.sort(\"count\").take(2)"
   ]
  },
  {
   "cell_type": "code",
   "execution_count": 7,
   "metadata": {},
   "outputs": [
    {
     "data": {
      "text/plain": [
       "1"
      ]
     },
     "execution_count": 7,
     "metadata": {},
     "output_type": "execute_result"
    }
   ],
   "source": [
    "flightData2015.rdd.getNumPartitions()"
   ]
  },
  {
   "cell_type": "code",
   "execution_count": 8,
   "metadata": {},
   "outputs": [
    {
     "name": "stdout",
     "output_type": "stream",
     "text": [
      "+-----------------+--------+\n",
      "|DEST_COUNTRY_NAME|count(1)|\n",
      "+-----------------+--------+\n",
      "|   United Kingdom|       2|\n",
      "|          Ireland|       1|\n",
      "|          Germany|       1|\n",
      "|           Russia|       1|\n",
      "|    United States|       3|\n",
      "|            India|       1|\n",
      "+-----------------+--------+\n",
      "\n",
      "+-----------------+-----+\n",
      "|DEST_COUNTRY_NAME|count|\n",
      "+-----------------+-----+\n",
      "|   United Kingdom|    2|\n",
      "|          Ireland|    1|\n",
      "|          Germany|    1|\n",
      "|           Russia|    1|\n",
      "|    United States|    3|\n",
      "|            India|    1|\n",
      "+-----------------+-----+\n",
      "\n",
      "== Physical Plan ==\n",
      "AdaptiveSparkPlan isFinalPlan=false\n",
      "+- HashAggregate(keys=[DEST_COUNTRY_NAME#31], functions=[count(1)])\n",
      "   +- Exchange hashpartitioning(DEST_COUNTRY_NAME#31, 5), ENSURE_REQUIREMENTS, [plan_id=160]\n",
      "      +- HashAggregate(keys=[DEST_COUNTRY_NAME#31], functions=[partial_count(1)])\n",
      "         +- FileScan csv [DEST_COUNTRY_NAME#31] Batched: false, DataFilters: [], Format: CSV, Location: InMemoryFileIndex(1 paths)[file:/c:/Users/PRATIK/Documents/Practice/PySpark_Practice/Databricks_B..., PartitionFilters: [], PushedFilters: [], ReadSchema: struct<DEST_COUNTRY_NAME:string>\n",
      "\n",
      "\n",
      "== Physical Plan ==\n",
      "AdaptiveSparkPlan isFinalPlan=false\n",
      "+- HashAggregate(keys=[DEST_COUNTRY_NAME#31], functions=[count(1)])\n",
      "   +- Exchange hashpartitioning(DEST_COUNTRY_NAME#31, 5), ENSURE_REQUIREMENTS, [plan_id=173]\n",
      "      +- HashAggregate(keys=[DEST_COUNTRY_NAME#31], functions=[partial_count(1)])\n",
      "         +- FileScan csv [DEST_COUNTRY_NAME#31] Batched: false, DataFilters: [], Format: CSV, Location: InMemoryFileIndex(1 paths)[file:/c:/Users/PRATIK/Documents/Practice/PySpark_Practice/Databricks_B..., PartitionFilters: [], PushedFilters: [], ReadSchema: struct<DEST_COUNTRY_NAME:string>\n",
      "\n",
      "\n"
     ]
    }
   ],
   "source": [
    "flightData2015.createOrReplaceTempView(\"flights_data_2015\")\n",
    "\n",
    "# SQL Way\n",
    "flights_sql_res = spark.sql(\"\"\"\n",
    "SELECT DEST_COUNTRY_NAME, count(1)\n",
    "FROM flights_data_2015\n",
    "GROUP BY DEST_COUNTRY_NAME\"\"\")\n",
    "\n",
    "flights_sql_res.show()\n",
    "\n",
    "# Dataframe Way\n",
    "flights_df_res = flightData2015 \\\n",
    "    .groupBy(\"DEST_COUNTRY_NAME\") \\\n",
    "    .count()\n",
    "\n",
    "flights_df_res.show()\n",
    "\n",
    "# It does not matter which way we use, final plan which Spark complies remains the same\n",
    "flights_sql_res.explain()\n",
    "flights_df_res.explain()"
   ]
  },
  {
   "cell_type": "code",
   "execution_count": 9,
   "metadata": {},
   "outputs": [
    {
     "name": "stdout",
     "output_type": "stream",
     "text": [
      "+----------+\n",
      "|max(count)|\n",
      "+----------+\n",
      "|       344|\n",
      "+----------+\n",
      "\n"
     ]
    },
    {
     "data": {
      "text/plain": [
       "[Row(max(count)=344)]"
      ]
     },
     "execution_count": 9,
     "metadata": {},
     "output_type": "execute_result"
    }
   ],
   "source": [
    "# Max\n",
    "# SQL\n",
    "spark.sql(\"\"\" SELECT MAX(count) FROM flights_data_2015 \"\"\").show()\n",
    "\n",
    "# DF\n",
    "from pyspark.sql.functions import max\n",
    "flightData2015.select(max(\"count\")).take(1)"
   ]
  },
  {
   "cell_type": "code",
   "execution_count": 10,
   "metadata": {},
   "outputs": [
    {
     "data": {
      "text/plain": [
       "[Row(DEST_COUNTRY_NAME='United States', Destination_Total=360),\n",
       " Row(DEST_COUNTRY_NAME='United Kingdom', Destination_Total=25),\n",
       " Row(DEST_COUNTRY_NAME='Germany', Destination_Total=10),\n",
       " Row(DEST_COUNTRY_NAME='Russia', Destination_Total=5),\n",
       " Row(DEST_COUNTRY_NAME='India', Destination_Total=5)]"
      ]
     },
     "execution_count": 10,
     "metadata": {},
     "output_type": "execute_result"
    }
   ],
   "source": [
    "max_sql = spark.sql(\"\"\"\n",
    "SELECT DEST_COUNTRY_NAME, SUM(count) AS Destination_Total\n",
    "FROM flights_data_2015\n",
    "GROUP BY DEST_COUNTRY_NAME\n",
    "ORDER BY SUM(count) DESC\n",
    "LIMIT 5\n",
    "\"\"\")\n",
    "\n",
    "max_sql.collect()"
   ]
  },
  {
   "cell_type": "code",
   "execution_count": 11,
   "metadata": {},
   "outputs": [
    {
     "name": "stdout",
     "output_type": "stream",
     "text": [
      "== Physical Plan ==\n",
      "AdaptiveSparkPlan isFinalPlan=false\n",
      "+- TakeOrderedAndProject(limit=5, orderBy=[destination_total#121L DESC NULLS LAST], output=[DEST_COUNTRY_NAME#31,destination_total#121L])\n",
      "   +- HashAggregate(keys=[DEST_COUNTRY_NAME#31], functions=[sum(count#33)])\n",
      "      +- Exchange hashpartitioning(DEST_COUNTRY_NAME#31, 5), ENSURE_REQUIREMENTS, [plan_id=298]\n",
      "         +- HashAggregate(keys=[DEST_COUNTRY_NAME#31], functions=[partial_sum(count#33)])\n",
      "            +- FileScan csv [DEST_COUNTRY_NAME#31,count#33] Batched: false, DataFilters: [], Format: CSV, Location: InMemoryFileIndex(1 paths)[file:/c:/Users/PRATIK/Documents/Practice/PySpark_Practice/Databricks_B..., PartitionFilters: [], PushedFilters: [], ReadSchema: struct<DEST_COUNTRY_NAME:string,count:int>\n",
      "\n",
      "\n"
     ]
    },
    {
     "data": {
      "text/plain": [
       "[Row(DEST_COUNTRY_NAME='United States', destination_total=360),\n",
       " Row(DEST_COUNTRY_NAME='United Kingdom', destination_total=25),\n",
       " Row(DEST_COUNTRY_NAME='Germany', destination_total=10),\n",
       " Row(DEST_COUNTRY_NAME='Russia', destination_total=5),\n",
       " Row(DEST_COUNTRY_NAME='India', destination_total=5)]"
      ]
     },
     "execution_count": 11,
     "metadata": {},
     "output_type": "execute_result"
    }
   ],
   "source": [
    "from pyspark.sql.functions import desc\n",
    "\n",
    "max_df = flightData2015 \\\n",
    "    .groupBy(\"DEST_COUNTRY_NAME\") \\\n",
    "    .sum(\"count\") \\\n",
    "    .withColumnRenamed(\"sum(count)\", \"destination_total\") \\\n",
    "    .sort(desc(\"destination_total\")) \\\n",
    "    .limit(5)\n",
    "\n",
    "max_df.explain()\n",
    "\n",
    "max_df.collect()"
   ]
  },
  {
   "cell_type": "code",
   "execution_count": 12,
   "metadata": {},
   "outputs": [
    {
     "name": "stdout",
     "output_type": "stream",
     "text": [
      "root\n",
      " |-- InvoiceNo: integer (nullable = true)\n",
      " |-- StockCode: string (nullable = true)\n",
      " |-- Description: string (nullable = true)\n",
      " |-- Quantity: integer (nullable = true)\n",
      " |-- InvoiceDate: timestamp (nullable = true)\n",
      " |-- UnitPrice: double (nullable = true)\n",
      " |-- CustomerID: double (nullable = true)\n",
      " |-- Country: string (nullable = true)\n",
      "\n"
     ]
    }
   ],
   "source": [
    "#  Spark Streaming Example\n",
    "\n",
    "staticDataFrame = spark.read.format(\"csv\")\\\n",
    "    .option(\"header\", \"true\")\\\n",
    "    .option(\"inferSchema\", \"true\")\\\n",
    "    .load(\"Data_Files/Retail.csv\")\n",
    "\n",
    "staticDataFrame.createOrReplaceTempView(\"retail_data\")\n",
    "\n",
    "staticSchema = staticDataFrame.schema\n",
    "staticDataFrame.printSchema()"
   ]
  },
  {
   "cell_type": "code",
   "execution_count": 13,
   "metadata": {},
   "outputs": [
    {
     "name": "stdout",
     "output_type": "stream",
     "text": [
      "+-----------+--------+\n",
      "|InvoiceDate|count(1)|\n",
      "+-----------+--------+\n",
      "| 2010-12-01|       6|\n",
      "| 2010-12-03|       3|\n",
      "| 2010-12-05|       1|\n",
      "| 2010-12-02|       1|\n",
      "+-----------+--------+\n",
      "\n"
     ]
    }
   ],
   "source": [
    "spark.sql(\"\"\"\n",
    "SELECT DISTINCT DATE(InvoiceDate), COUNT(*)\n",
    "FROM retail_data\n",
    "GROUP BY 1\n",
    "ORDER BY 2 DESC\n",
    "\"\"\").show()"
   ]
  },
  {
   "cell_type": "code",
   "execution_count": 14,
   "metadata": {},
   "outputs": [
    {
     "name": "stdout",
     "output_type": "stream",
     "text": [
      "+----------+------------------------------------------+------------------+\n",
      "|CustomerId|window                                    |sum(total_cost)   |\n",
      "+----------+------------------------------------------+------------------+\n",
      "|17850.0   |{2010-12-01 05:30:00, 2010-12-02 05:30:00}|112.92000000000002|\n",
      "|17850.0   |{2010-12-03 05:30:00, 2010-12-04 05:30:00}|15.3              |\n",
      "|17850.0   |{2010-12-05 05:30:00, 2010-12-06 05:30:00}|11.100000000000001|\n",
      "|13047.0   |{2010-12-03 05:30:00, 2010-12-04 05:30:00}|108.16            |\n",
      "|17850.0   |{2010-12-02 05:30:00, 2010-12-03 05:30:00}|22.0              |\n",
      "+----------+------------------------------------------+------------------+\n",
      "\n"
     ]
    }
   ],
   "source": [
    "# Windowing per day based on a Business Column\n",
    "\n",
    "from pyspark.sql.functions import window, column, col, desc\n",
    "\n",
    "staticDataFrame \\\n",
    ".selectExpr(\n",
    "    \"CustomerId\",\n",
    "    \"(UnitPrice*Quantity) as total_cost\",\n",
    "    \"InvoiceDate\")\\\n",
    ".groupBy(\n",
    "    col(\"CustomerId\"), window(col(\"InvoiceDate\"), \"1 day\"))\\\n",
    ".sum(\"total_cost\")\\\n",
    ".show(truncate=False)"
   ]
  },
  {
   "cell_type": "code",
   "execution_count": 15,
   "metadata": {},
   "outputs": [
    {
     "data": {
      "text/plain": [
       "'\\n# Reading Stream\\nstreamingDataFrame = spark.readStream .schema(staticSchema)\\\\     # Providing Schema of Streaming Data\\n .option(\"maxFilesPerTrigger\", 1) .format(\"csv\") .option(\"header\", \"true\") .load(\".../*.csv\")\\n\\nstreamingDataFrame.isStreaming      # returns true\\n\\npurchaseByCustomerPerHour = streamingDataFrame .selectExpr(\\n \"CustomerId\",\\n \"(UnitPrice * Quantity) as total_cost\" ,\\n \"InvoiceDate\" ) .groupBy(\\n col(\"CustomerId\"), window(col(\"InvoiceDate\"), \"1 day\")) .sum(\"total_cost\")\\n\\n# But to Run, we have to call an Action\\n# Streaming has different actions\\npurchaseByCustomerPerHour.writeStream .format(\"memory\")\\\\     #  memory = store in-memory table | For writing to Console >> .format(\"console\")\\n .queryName(\"customer_purchases\")\\\\      # customer_purchases = name of the in-memory table\\n .outputMode(\"complete\")\\\\       #  complete = all the counts should be in the table\\n .start()\\n'"
      ]
     },
     "execution_count": 15,
     "metadata": {},
     "output_type": "execute_result"
    }
   ],
   "source": [
    "# Converting above Batch logic to Stream\n",
    "# Won't Run, but keeping the Syntax for References\n",
    "\"\"\"\n",
    "# Reading Stream\n",
    "streamingDataFrame = spark.readStream\\\n",
    " .schema(staticSchema)\\     # Providing Schema of Streaming Data\n",
    " .option(\"maxFilesPerTrigger\", 1)\\\n",
    " .format(\"csv\")\\\n",
    " .option(\"header\", \"true\")\\\n",
    " .load(\".../*.csv\")\n",
    "\n",
    "streamingDataFrame.isStreaming      # returns true\n",
    "\n",
    "purchaseByCustomerPerHour = streamingDataFrame\\\n",
    " .selectExpr(\n",
    " \"CustomerId\",\n",
    " \"(UnitPrice * Quantity) as total_cost\" ,\n",
    " \"InvoiceDate\" )\\\n",
    " .groupBy(\n",
    " col(\"CustomerId\"), window(col(\"InvoiceDate\"), \"1 day\"))\\\n",
    " .sum(\"total_cost\")\n",
    "\n",
    "# But to Run, we have to call an Action\n",
    "# Streaming has different actions\n",
    "purchaseByCustomerPerHour.writeStream\\\n",
    " .format(\"memory\")\\     #  memory = store in-memory table | For writing to Console >> .format(\"console\")\n",
    " .queryName(\"customer_purchases\")\\      # customer_purchases = name of the in-memory table\n",
    " .outputMode(\"complete\")\\       #  complete = all the counts should be in the table\n",
    " .start()\n",
    "\"\"\""
   ]
  },
  {
   "cell_type": "code",
   "execution_count": 16,
   "metadata": {},
   "outputs": [
    {
     "name": "stdout",
     "output_type": "stream",
     "text": [
      "+-------+\n",
      "|Numbers|\n",
      "+-------+\n",
      "|      1|\n",
      "|      2|\n",
      "|      3|\n",
      "+-------+\n",
      "\n"
     ]
    }
   ],
   "source": [
    "# Lower Level APIs - RDD\n",
    "# Parallelizing RDD into a DF\n",
    "\n",
    "from pyspark.sql import Row\n",
    "\n",
    "spark.sparkContext.parallelize([Row(1), Row(2), Row(3)]).toDF()\\\n",
    "    .withColumnRenamed(\"_1\", \"Numbers\")\\\n",
    "    .show()"
   ]
  },
  {
   "cell_type": "code",
   "execution_count": 17,
   "metadata": {},
   "outputs": [
    {
     "data": {
      "text/plain": [
       "DataFrame[5: int, five: string, 5.0: double]"
      ]
     },
     "execution_count": 17,
     "metadata": {},
     "output_type": "execute_result"
    }
   ],
   "source": [
    "# lit Function - Converting to Spark Native Type\n",
    "\n",
    "from pyspark.sql.functions import lit\n",
    "\n",
    "df = spark.read.format(\"csv\")\\\n",
    "    .option(\"inferSchema\", \"true\")\\\n",
    "    .option(\"header\", \"true\")\\\n",
    "    .load(\"Data_Files/Retail.csv\")\n",
    "\n",
    "df.select(lit(5), lit(\"five\"), lit(5.0))"
   ]
  },
  {
   "cell_type": "code",
   "execution_count": 18,
   "metadata": {},
   "outputs": [
    {
     "name": "stdout",
     "output_type": "stream",
     "text": [
      "+---------+-----------------------------+\n",
      "|InvoiceNo|Description                  |\n",
      "+---------+-----------------------------+\n",
      "|536366   |HAND WARMER UNION JACK       |\n",
      "|536366   |HAND WARMER RED POLKA DOT    |\n",
      "|536367   |ASSORTED COLOUR BIRD ORNAMENT|\n",
      "|536367   |hello                        |\n",
      "+---------+-----------------------------+\n",
      "\n",
      "+---------+-----------------------------+\n",
      "|InvoiceNo|Description                  |\n",
      "+---------+-----------------------------+\n",
      "|536366   |HAND WARMER UNION JACK       |\n",
      "|536366   |HAND WARMER RED POLKA DOT    |\n",
      "|536367   |ASSORTED COLOUR BIRD ORNAMENT|\n",
      "|536367   |hello                        |\n",
      "+---------+-----------------------------+\n",
      "\n"
     ]
    }
   ],
   "source": [
    "# using Where\n",
    "\n",
    "# Way 1 using col()\n",
    "\n",
    "df.where(col(\"InvoiceNo\") != 536365)\\\n",
    "    .select(\"InvoiceNo\", \"Description\")\\\n",
    "    .show(5, False)\n",
    "\n",
    "# Way 2 using Expression String\n",
    "df.where(\"InvoiceNo != 536365\")\\\n",
    "    .select(\"InvoiceNo\", \"Description\")\\\n",
    "    .show(5, False)"
   ]
  },
  {
   "cell_type": "code",
   "execution_count": 19,
   "metadata": {},
   "outputs": [
    {
     "name": "stdout",
     "output_type": "stream",
     "text": [
      "+---------+---------+-------------------+--------+-------------------+---------+----------+--------------+\n",
      "|InvoiceNo|StockCode|        Description|Quantity|        InvoiceDate|UnitPrice|CustomerID|       Country|\n",
      "+---------+---------+-------------------+--------+-------------------+---------+----------+--------------+\n",
      "|   536365|    71053|WHITE METAL LANTERN|       6|2010-12-01 08:26:00|     3.39|   17850.0|United Kingdom|\n",
      "+---------+---------+-------------------+--------+-------------------+---------+----------+--------------+\n",
      "\n",
      "+---------+---------+-------------------+--------+-------------------+---------+----------+--------------+\n",
      "|InvoiceNo|StockCode|        Description|Quantity|        InvoiceDate|UnitPrice|CustomerID|       Country|\n",
      "+---------+---------+-------------------+--------+-------------------+---------+----------+--------------+\n",
      "|   536365|    71053|WHITE METAL LANTERN|       6|2010-12-01 08:26:00|     3.39|   17850.0|United Kingdom|\n",
      "+---------+---------+-------------------+--------+-------------------+---------+----------+--------------+\n",
      "\n"
     ]
    }
   ],
   "source": [
    "# More Difficult Where Example\n",
    "from pyspark.sql.functions import instr\n",
    "\n",
    "priceFilter = col(\"Unitprice\") > 1.85\n",
    "descriptionFilter = instr(df.Description, \"WHITE\") >= 1\n",
    "\n",
    "# col(\"StockCode\") and df.StockCode - Ways to access a column of Dataframe\n",
    "# where and filter - Are Alias in case of DF. Both works similarly for Dataframes\n",
    "\n",
    "df.where(col(\"StockCode\").isin(\"71053\"))\\\n",
    "    .where(priceFilter | descriptionFilter)\\\n",
    "    .show()\n",
    "\n",
    "df.filter(df.StockCode.isin(\"71053\"))\\\n",
    "    .filter(priceFilter | descriptionFilter)\\\n",
    "    .show()"
   ]
  },
  {
   "cell_type": "code",
   "execution_count": 20,
   "metadata": {},
   "outputs": [
    {
     "name": "stdout",
     "output_type": "stream",
     "text": [
      "+---------+---------+-------------------+--------+-------------------+---------+----------+--------------+\n",
      "|InvoiceNo|StockCode|        Description|Quantity|        InvoiceDate|UnitPrice|CustomerID|       Country|\n",
      "+---------+---------+-------------------+--------+-------------------+---------+----------+--------------+\n",
      "|   536365|    71053|WHITE METAL LANTERN|       6|2010-12-01 08:26:00|     3.39|   17850.0|United Kingdom|\n",
      "+---------+---------+-------------------+--------+-------------------+---------+----------+--------------+\n",
      "\n"
     ]
    }
   ],
   "source": [
    "spark.sql(\"\"\"\n",
    "SELECT *\n",
    "FROM retail_data\n",
    "WHERE \n",
    "StockCode in (\"71053\") AND\n",
    "(UnitPrice > 1.85 OR instr(Description, \"WHITE\") >= 1 )\n",
    "\"\"\").show()"
   ]
  },
  {
   "cell_type": "code",
   "execution_count": 21,
   "metadata": {},
   "outputs": [
    {
     "name": "stdout",
     "output_type": "stream",
     "text": [
      "+---------+-----------+\n",
      "|unitPrice|isExpensive|\n",
      "+---------+-----------+\n",
      "|     3.39|       true|\n",
      "+---------+-----------+\n",
      "\n",
      "+---------+-----------+\n",
      "|UnitPrice|isExpensive|\n",
      "+---------+-----------+\n",
      "|     2.55|      false|\n",
      "|     3.39|       true|\n",
      "|     2.75|      false|\n",
      "|     3.39|      false|\n",
      "|     3.39|      false|\n",
      "|     7.65|      false|\n",
      "|     4.25|      false|\n",
      "|     1.85|      false|\n",
      "|     1.85|      false|\n",
      "|     1.69|      false|\n",
      "|     1.69|      false|\n",
      "+---------+-----------+\n",
      "\n"
     ]
    }
   ],
   "source": [
    "# Where vs Filter\n",
    "\"\"\"\n",
    "Where - \n",
    "- is for Dataframes\n",
    "- SQL like conditions\n",
    "- Alias for Filter\n",
    "Filter \n",
    "- for Dataframes and RDDs\n",
    "- Supports lamda function for advanced filters\n",
    "\"\"\"\n",
    "\n",
    "# Use & for and, | for or, ~ for not In DF boolean expressions\n",
    "DOTCodeFilter = col(\"StockCode\") == \"71053\"\n",
    "priceFilter = col(\"UnitPrice\") > 1.85\n",
    "descripFilter = instr(col(\"Description\"), \"WHITE\") >= 1\n",
    "df.withColumn(\"isExpensive\",\n",
    "DOTCodeFilter & (priceFilter | descripFilter))\\\n",
    ".where(\"isExpensive\")\\\n",
    ".select(\"unitPrice\", \"isExpensive\")\\\n",
    ".show(5)\n",
    "\n",
    "spark.sql(\"\"\"\n",
    "SELECT\n",
    "UnitPrice,\n",
    "(StockCode = \"71053\" AND\n",
    "(UnitPrice > 1.85 OR\n",
    "instr(Description, \"WHITE\") >= 1)) as isExpensive\n",
    "FROM retail_data\n",
    "\"\"\").show()"
   ]
  },
  {
   "cell_type": "code",
   "execution_count": 22,
   "metadata": {},
   "outputs": [
    {
     "name": "stdout",
     "output_type": "stream",
     "text": [
      "+--------------------+---------+-----------+\n",
      "|         Description|UnitPrice|isExpensive|\n",
      "+--------------------+---------+-----------+\n",
      "|WHITE HANGING HEA...|     2.55|       true|\n",
      "| WHITE METAL LANTERN|     3.39|       true|\n",
      "|CREAM CUPID HEART...|     2.75|       true|\n",
      "|KNITTED UNION FLA...|     3.39|       true|\n",
      "|RED WOOLLY HOTTIE...|     3.39|       true|\n",
      "|SET 7 BABUSHKA NE...|     7.65|       true|\n",
      "|GLASS STAR FROSTE...|     4.25|       true|\n",
      "+--------------------+---------+-----------+\n",
      "\n"
     ]
    }
   ],
   "source": [
    "from pyspark.sql.functions import expr, col\n",
    "\n",
    "df.withColumn(\"isExpensive\", expr(\"NOT UnitPrice <= 1.85\"))\\\n",
    "    .where(col(\"isExpensive\"))\\\n",
    "    .select(\"Description\", \"UnitPrice\", \"isExpensive\").show()"
   ]
  },
  {
   "cell_type": "code",
   "execution_count": 23,
   "metadata": {},
   "outputs": [
    {
     "name": "stdout",
     "output_type": "stream",
     "text": [
      "+---------+---------+-----------+--------+-------------------+---------+----------+--------------+\n",
      "|InvoiceNo|StockCode|Description|Quantity|        InvoiceDate|UnitPrice|CustomerID|       Country|\n",
      "+---------+---------+-----------+--------+-------------------+---------+----------+--------------+\n",
      "|   536367|    84879|      hello|      32|2010-12-03 08:34:00|     1.69|   13047.0|United Kingdom|\n",
      "+---------+---------+-----------+--------+-------------------+---------+----------+--------------+\n",
      "\n"
     ]
    }
   ],
   "source": [
    "# To perform a null safe equivalence test\n",
    "df.where(col(\"Description\").eqNullSafe(\"hello\")).show()"
   ]
  },
  {
   "cell_type": "code",
   "execution_count": 24,
   "metadata": {},
   "outputs": [
    {
     "name": "stdout",
     "output_type": "stream",
     "text": [
      "+----------+------------------+\n",
      "|CustomerId|           RealQty|\n",
      "+----------+------------------+\n",
      "|   17850.0|239.08999999999997|\n",
      "|   17850.0|          418.7156|\n",
      "|   17850.0|             489.0|\n",
      "+----------+------------------+\n",
      "only showing top 3 rows\n",
      "\n",
      "+----------+------------------+\n",
      "|CustomerId|           RealQty|\n",
      "+----------+------------------+\n",
      "|   17850.0|239.08999999999997|\n",
      "|   17850.0|          418.7156|\n",
      "|   17850.0|             489.0|\n",
      "+----------+------------------+\n",
      "only showing top 3 rows\n",
      "\n"
     ]
    }
   ],
   "source": [
    "# Mathematical Examples\n",
    "# pow and expr\n",
    "from pyspark.sql.functions import expr, pow\n",
    "\n",
    "fabricatedQty = pow( (col(\"Quantity\") * col(\"UnitPrice\")), 2) + 5\n",
    "df.select(\n",
    "    expr(\"CustomerId\"),\n",
    "    fabricatedQty.alias(\"RealQty\")\n",
    ").show(3)\n",
    "\n",
    "# Other Way\n",
    "df.selectExpr(\n",
    "    \"CustomerId\",\n",
    "    \"(POWER((Quantity*UnitPrice),2)+5) as RealQty\"\n",
    ").show(3)"
   ]
  },
  {
   "cell_type": "code",
   "execution_count": 25,
   "metadata": {},
   "outputs": [
    {
     "name": "stdout",
     "output_type": "stream",
     "text": [
      "+-------------+--------------+-------------+--------------+\n",
      "|round(2.5, 0)|bround(2.5, 0)|round(2.4, 0)|bround(2.6, 0)|\n",
      "+-------------+--------------+-------------+--------------+\n",
      "|          3.0|           2.0|          2.0|           3.0|\n",
      "|          3.0|           2.0|          2.0|           3.0|\n",
      "+-------------+--------------+-------------+--------------+\n",
      "only showing top 2 rows\n",
      "\n"
     ]
    }
   ],
   "source": [
    "# Round, BRound\n",
    "from pyspark.sql.functions import round, bround, lit\n",
    "\n",
    "df.select(\n",
    "    round(lit(\"2.5\")),      # Round to Ceil\n",
    "    bround(lit(\"2.5\")),     # Round to Bottom when Exact Centre Number is Rounder eg. 2.5 \n",
    "    round(lit(\"2.4\")),\n",
    "    bround(lit(\"2.6\"))\n",
    ").show(2)"
   ]
  },
  {
   "cell_type": "code",
   "execution_count": 26,
   "metadata": {},
   "outputs": [
    {
     "name": "stdout",
     "output_type": "stream",
     "text": [
      "+-------+------------------+------------------+--------------------+------------------+------------------+------------------+--------------+\n",
      "|summary|         InvoiceNo|         StockCode|         Description|          Quantity|         UnitPrice|        CustomerID|       Country|\n",
      "+-------+------------------+------------------+--------------------+------------------+------------------+------------------+--------------+\n",
      "|  count|                11|                11|                  11|                11|                11|                11|            11|\n",
      "|   mean| 536365.5454545454| 47222.57142857143|                null|10.545454545454545|3.1318181818181823|16976.727272727272|          null|\n",
      "| stddev|0.8201995322555489|31256.801504404033|                null|10.699192832766744|1.7260464546576852|1942.9091636465712|          null|\n",
      "|    min|            536365|             21730|ASSORTED COLOUR B...|                 2|              1.69|           13047.0|United Kingdom|\n",
      "|    max|            536367|            85123A|               hello|                32|              7.65|           17850.0|United Kingdom|\n",
      "+-------+------------------+------------------+--------------------+------------------+------------------+------------------+--------------+\n",
      "\n"
     ]
    }
   ],
   "source": [
    "# Describes a DF\n",
    "df.describe().show()"
   ]
  },
  {
   "cell_type": "code",
   "execution_count": 29,
   "metadata": {},
   "outputs": [
    {
     "name": "stdout",
     "output_type": "stream",
     "text": [
      "+-----------------------------+\n",
      "|monotonically_increasing_id()|\n",
      "+-----------------------------+\n",
      "|                            0|\n",
      "|                            1|\n",
      "|                            2|\n",
      "|                            3|\n",
      "|                            4|\n",
      "+-----------------------------+\n",
      "only showing top 5 rows\n",
      "\n"
     ]
    }
   ],
   "source": [
    "# Monotonically Increasing ID\n",
    "from pyspark.sql.functions import monotonically_increasing_id\n",
    "\n",
    "df.select(monotonically_increasing_id()).show(5)"
   ]
  },
  {
   "cell_type": "code",
   "execution_count": null,
   "metadata": {},
   "outputs": [],
   "source": []
  }
 ],
 "metadata": {
  "kernelspec": {
   "display_name": "base",
   "language": "python",
   "name": "python3"
  },
  "language_info": {
   "codemirror_mode": {
    "name": "ipython",
    "version": 3
   },
   "file_extension": ".py",
   "mimetype": "text/x-python",
   "name": "python",
   "nbconvert_exporter": "python",
   "pygments_lexer": "ipython3",
   "version": "3.10.9"
  }
 },
 "nbformat": 4,
 "nbformat_minor": 2
}
