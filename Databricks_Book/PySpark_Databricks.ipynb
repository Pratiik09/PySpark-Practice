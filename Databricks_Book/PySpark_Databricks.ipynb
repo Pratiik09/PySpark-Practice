{
 "cells": [
  {
   "cell_type": "code",
   "execution_count": 1,
   "metadata": {},
   "outputs": [
    {
     "name": "stdout",
     "output_type": "stream",
     "text": [
      "Spark Session Details: <pyspark.sql.session.SparkSession object at 0x000001B86AA8F9A0>\n"
     ]
    }
   ],
   "source": [
    "# Import findspark to locate Spark in your Python Env\n",
    "import findspark\n",
    "findspark.init()\n",
    "findspark.find()\n",
    "\n",
    "# Import SparkSession\n",
    "\n",
    "from pyspark.sql import SparkSession\n",
    "\n",
    "# Create SparkSession\n",
    "\n",
    "spark = SparkSession.builder \\\n",
    "        .master(\"local\") \\\n",
    "        .appName(\"PySpark Databricks\") \\\n",
    "        .getOrCreate()\n",
    "\n",
    "print(\"Spark Session Details:\",spark)"
   ]
  },
  {
   "cell_type": "code",
   "execution_count": 2,
   "metadata": {},
   "outputs": [
    {
     "name": "stdout",
     "output_type": "stream",
     "text": [
      "+------+\n",
      "|number|\n",
      "+------+\n",
      "|     0|\n",
      "|     1|\n",
      "|     2|\n",
      "|     3|\n",
      "|     4|\n",
      "+------+\n",
      "\n"
     ]
    }
   ],
   "source": [
    "# Range toDF\n",
    "my_range = spark.range(5).toDF(\"number\")\n",
    "my_range.show()"
   ]
  },
  {
   "cell_type": "code",
   "execution_count": 3,
   "metadata": {},
   "outputs": [
    {
     "name": "stdout",
     "output_type": "stream",
     "text": [
      "+------+\n",
      "|number|\n",
      "+------+\n",
      "|     0|\n",
      "|     2|\n",
      "|     4|\n",
      "+------+\n",
      "\n"
     ]
    }
   ],
   "source": [
    "# Using Where for Evens \n",
    "evens = my_range.where(\"number % 2 = 0\")\n",
    "evens.show()"
   ]
  },
  {
   "cell_type": "code",
   "execution_count": 4,
   "metadata": {},
   "outputs": [
    {
     "data": {
      "text/plain": [
       "[Row(DEST_COUNTRY_NAME='United States', ORIGIN_COUNTRY_NAME='Romania', count=15),\n",
       " Row(DEST_COUNTRY_NAME='United States', ORIGIN_COUNTRY_NAME='Croatia', count=1),\n",
       " Row(DEST_COUNTRY_NAME='United States', ORIGIN_COUNTRY_NAME='Ireland', count=344)]"
      ]
     },
     "execution_count": 4,
     "metadata": {},
     "output_type": "execute_result"
    }
   ],
   "source": [
    "# Read CSV with InferSchema and Headers\n",
    "# Read is a Transformation. Thus, it has Lazy Evaluation\n",
    "\n",
    "flightData2015 = spark.read \\\n",
    "    .option(\"inferschema\", \"true\") \\\n",
    "    .option(\"header\",\"true\") \\\n",
    "    .csv(\"Data_Files\\Flights.csv\")\n",
    "\n",
    "flightData2015.take(3)"
   ]
  },
  {
   "cell_type": "code",
   "execution_count": 5,
   "metadata": {},
   "outputs": [
    {
     "name": "stdout",
     "output_type": "stream",
     "text": [
      "== Physical Plan ==\n",
      "AdaptiveSparkPlan isFinalPlan=false\n",
      "+- Sort [count#33 ASC NULLS FIRST], true, 0\n",
      "   +- Exchange rangepartitioning(count#33 ASC NULLS FIRST, 200), ENSURE_REQUIREMENTS, [plan_id=53]\n",
      "      +- FileScan csv [DEST_COUNTRY_NAME#31,ORIGIN_COUNTRY_NAME#32,count#33] Batched: false, DataFilters: [], Format: CSV, Location: InMemoryFileIndex(1 paths)[file:/c:/Users/PRATIK/Documents/Practice/PySpark_Practice/Databricks_B..., PartitionFilters: [], PushedFilters: [], ReadSchema: struct<DEST_COUNTRY_NAME:string,ORIGIN_COUNTRY_NAME:string,count:int>\n",
      "\n",
      "\n"
     ]
    }
   ],
   "source": [
    "# Explain - Physical Plan\n",
    "\n",
    "flightData2015.sort(\"count\").explain()"
   ]
  },
  {
   "cell_type": "code",
   "execution_count": 6,
   "metadata": {},
   "outputs": [
    {
     "data": {
      "text/plain": [
       "[Row(DEST_COUNTRY_NAME='United States', ORIGIN_COUNTRY_NAME='Croatia', count=1),\n",
       " Row(DEST_COUNTRY_NAME='Ireland', ORIGIN_COUNTRY_NAME='Afganistan', count=2)]"
      ]
     },
     "execution_count": 6,
     "metadata": {},
     "output_type": "execute_result"
    }
   ],
   "source": [
    "spark.conf.set(\"spark.sql.shuffle.partitions\",\"5\")      # Set to 5, Becoz Default Shuffle Partitions is 200\n",
    "\n",
    "flightData2015.sort(\"count\").take(2)"
   ]
  },
  {
   "cell_type": "code",
   "execution_count": 7,
   "metadata": {},
   "outputs": [
    {
     "data": {
      "text/plain": [
       "1"
      ]
     },
     "execution_count": 7,
     "metadata": {},
     "output_type": "execute_result"
    }
   ],
   "source": [
    "flightData2015.rdd.getNumPartitions()"
   ]
  },
  {
   "cell_type": "code",
   "execution_count": 8,
   "metadata": {},
   "outputs": [
    {
     "name": "stdout",
     "output_type": "stream",
     "text": [
      "+-----------------+--------+\n",
      "|DEST_COUNTRY_NAME|count(1)|\n",
      "+-----------------+--------+\n",
      "|   United Kingdom|       2|\n",
      "|          Ireland|       1|\n",
      "|          Germany|       1|\n",
      "|           Russia|       1|\n",
      "|    United States|       3|\n",
      "|            India|       1|\n",
      "+-----------------+--------+\n",
      "\n",
      "+-----------------+-----+\n",
      "|DEST_COUNTRY_NAME|count|\n",
      "+-----------------+-----+\n",
      "|   United Kingdom|    2|\n",
      "|          Ireland|    1|\n",
      "|          Germany|    1|\n",
      "|           Russia|    1|\n",
      "|    United States|    3|\n",
      "|            India|    1|\n",
      "+-----------------+-----+\n",
      "\n",
      "== Physical Plan ==\n",
      "AdaptiveSparkPlan isFinalPlan=false\n",
      "+- HashAggregate(keys=[DEST_COUNTRY_NAME#31], functions=[count(1)])\n",
      "   +- Exchange hashpartitioning(DEST_COUNTRY_NAME#31, 5), ENSURE_REQUIREMENTS, [plan_id=160]\n",
      "      +- HashAggregate(keys=[DEST_COUNTRY_NAME#31], functions=[partial_count(1)])\n",
      "         +- FileScan csv [DEST_COUNTRY_NAME#31] Batched: false, DataFilters: [], Format: CSV, Location: InMemoryFileIndex(1 paths)[file:/c:/Users/PRATIK/Documents/Practice/PySpark_Practice/Databricks_B..., PartitionFilters: [], PushedFilters: [], ReadSchema: struct<DEST_COUNTRY_NAME:string>\n",
      "\n",
      "\n",
      "== Physical Plan ==\n",
      "AdaptiveSparkPlan isFinalPlan=false\n",
      "+- HashAggregate(keys=[DEST_COUNTRY_NAME#31], functions=[count(1)])\n",
      "   +- Exchange hashpartitioning(DEST_COUNTRY_NAME#31, 5), ENSURE_REQUIREMENTS, [plan_id=173]\n",
      "      +- HashAggregate(keys=[DEST_COUNTRY_NAME#31], functions=[partial_count(1)])\n",
      "         +- FileScan csv [DEST_COUNTRY_NAME#31] Batched: false, DataFilters: [], Format: CSV, Location: InMemoryFileIndex(1 paths)[file:/c:/Users/PRATIK/Documents/Practice/PySpark_Practice/Databricks_B..., PartitionFilters: [], PushedFilters: [], ReadSchema: struct<DEST_COUNTRY_NAME:string>\n",
      "\n",
      "\n"
     ]
    }
   ],
   "source": [
    "flightData2015.createOrReplaceTempView(\"flights_data_2015\")\n",
    "\n",
    "# SQL Way\n",
    "flights_sql_res = spark.sql(\"\"\"\n",
    "SELECT DEST_COUNTRY_NAME, count(1)\n",
    "FROM flights_data_2015\n",
    "GROUP BY DEST_COUNTRY_NAME\"\"\")\n",
    "\n",
    "flights_sql_res.show()\n",
    "\n",
    "# Dataframe Way\n",
    "flights_df_res = flightData2015 \\\n",
    "    .groupBy(\"DEST_COUNTRY_NAME\") \\\n",
    "    .count()\n",
    "\n",
    "flights_df_res.show()\n",
    "\n",
    "# It does not matter which way we use, final plan which Spark complies remains the same\n",
    "flights_sql_res.explain()\n",
    "flights_df_res.explain()"
   ]
  },
  {
   "cell_type": "code",
   "execution_count": 9,
   "metadata": {},
   "outputs": [
    {
     "name": "stdout",
     "output_type": "stream",
     "text": [
      "+----------+\n",
      "|max(count)|\n",
      "+----------+\n",
      "|       344|\n",
      "+----------+\n",
      "\n"
     ]
    },
    {
     "data": {
      "text/plain": [
       "[Row(max(count)=344)]"
      ]
     },
     "execution_count": 9,
     "metadata": {},
     "output_type": "execute_result"
    }
   ],
   "source": [
    "# Max\n",
    "# SQL\n",
    "spark.sql(\"\"\" SELECT MAX(count) FROM flights_data_2015 \"\"\").show()\n",
    "\n",
    "# DF\n",
    "from pyspark.sql.functions import max\n",
    "flightData2015.select(max(\"count\")).take(1)"
   ]
  },
  {
   "cell_type": "code",
   "execution_count": 10,
   "metadata": {},
   "outputs": [
    {
     "data": {
      "text/plain": [
       "[Row(DEST_COUNTRY_NAME='United States', Destination_Total=360),\n",
       " Row(DEST_COUNTRY_NAME='United Kingdom', Destination_Total=25),\n",
       " Row(DEST_COUNTRY_NAME='Germany', Destination_Total=10),\n",
       " Row(DEST_COUNTRY_NAME='Russia', Destination_Total=5),\n",
       " Row(DEST_COUNTRY_NAME='India', Destination_Total=5)]"
      ]
     },
     "execution_count": 10,
     "metadata": {},
     "output_type": "execute_result"
    }
   ],
   "source": [
    "max_sql = spark.sql(\"\"\"\n",
    "SELECT DEST_COUNTRY_NAME, SUM(count) AS Destination_Total\n",
    "FROM flights_data_2015\n",
    "GROUP BY DEST_COUNTRY_NAME\n",
    "ORDER BY SUM(count) DESC\n",
    "LIMIT 5\n",
    "\"\"\")\n",
    "\n",
    "max_sql.collect()"
   ]
  },
  {
   "cell_type": "code",
   "execution_count": 15,
   "metadata": {},
   "outputs": [
    {
     "name": "stdout",
     "output_type": "stream",
     "text": [
      "== Physical Plan ==\n",
      "AdaptiveSparkPlan isFinalPlan=false\n",
      "+- TakeOrderedAndProject(limit=5, orderBy=[destination_total#155L DESC NULLS LAST], output=[DEST_COUNTRY_NAME#31,destination_total#155L])\n",
      "   +- HashAggregate(keys=[DEST_COUNTRY_NAME#31], functions=[sum(count#33)])\n",
      "      +- Exchange hashpartitioning(DEST_COUNTRY_NAME#31, 5), ENSURE_REQUIREMENTS, [plan_id=360]\n",
      "         +- HashAggregate(keys=[DEST_COUNTRY_NAME#31], functions=[partial_sum(count#33)])\n",
      "            +- FileScan csv [DEST_COUNTRY_NAME#31,count#33] Batched: false, DataFilters: [], Format: CSV, Location: InMemoryFileIndex(1 paths)[file:/c:/Users/PRATIK/Documents/Practice/PySpark_Practice/Databricks_B..., PartitionFilters: [], PushedFilters: [], ReadSchema: struct<DEST_COUNTRY_NAME:string,count:int>\n",
      "\n",
      "\n"
     ]
    },
    {
     "data": {
      "text/plain": [
       "[Row(DEST_COUNTRY_NAME='United States', destination_total=360),\n",
       " Row(DEST_COUNTRY_NAME='United Kingdom', destination_total=25),\n",
       " Row(DEST_COUNTRY_NAME='Germany', destination_total=10),\n",
       " Row(DEST_COUNTRY_NAME='Russia', destination_total=5),\n",
       " Row(DEST_COUNTRY_NAME='India', destination_total=5)]"
      ]
     },
     "execution_count": 15,
     "metadata": {},
     "output_type": "execute_result"
    }
   ],
   "source": [
    "from pyspark.sql.functions import desc\n",
    "\n",
    "max_df = flightData2015 \\\n",
    "    .groupBy(\"DEST_COUNTRY_NAME\") \\\n",
    "    .sum(\"count\") \\\n",
    "    .withColumnRenamed(\"sum(count)\", \"destination_total\") \\\n",
    "    .sort(desc(\"destination_total\")) \\\n",
    "    .limit(5)\n",
    "\n",
    "max_df.explain()\n",
    "\n",
    "max_df.collect()"
   ]
  },
  {
   "cell_type": "code",
   "execution_count": null,
   "metadata": {},
   "outputs": [],
   "source": []
  }
 ],
 "metadata": {
  "kernelspec": {
   "display_name": "base",
   "language": "python",
   "name": "python3"
  },
  "language_info": {
   "codemirror_mode": {
    "name": "ipython",
    "version": 3
   },
   "file_extension": ".py",
   "mimetype": "text/x-python",
   "name": "python",
   "nbconvert_exporter": "python",
   "pygments_lexer": "ipython3",
   "version": "3.10.9"
  }
 },
 "nbformat": 4,
 "nbformat_minor": 2
}
