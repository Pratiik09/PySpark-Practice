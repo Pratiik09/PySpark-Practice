{
 "cells": [
  {
   "cell_type": "code",
   "execution_count": 1,
   "metadata": {},
   "outputs": [
    {
     "name": "stdout",
     "output_type": "stream",
     "text": [
      "Spark Session Details: <pyspark.sql.session.SparkSession object at 0x000002C16169EA10>\n"
     ]
    }
   ],
   "source": [
    "# Import findspark to locate Spark in your Python Env\n",
    "import findspark\n",
    "findspark.init()\n",
    "findspark.find()\n",
    "\n",
    "# Import SparkSession\n",
    "\n",
    "from pyspark.sql import SparkSession\n",
    "\n",
    "# Create SparkSession\n",
    "\n",
    "spark = SparkSession.builder \\\n",
    "        .master(\"local\") \\\n",
    "        .appName(\"PySpark Databricks\") \\\n",
    "        .getOrCreate()\n",
    "\n",
    "print(\"Spark Session Details:\",spark)"
   ]
  },
  {
   "cell_type": "code",
   "execution_count": 2,
   "metadata": {},
   "outputs": [
    {
     "name": "stdout",
     "output_type": "stream",
     "text": [
      "+------+\n",
      "|number|\n",
      "+------+\n",
      "|     0|\n",
      "|     1|\n",
      "|     2|\n",
      "|     3|\n",
      "|     4|\n",
      "+------+\n",
      "\n"
     ]
    }
   ],
   "source": [
    "# Range toDF\n",
    "my_range = spark.range(5).toDF(\"number\")\n",
    "my_range.show()"
   ]
  },
  {
   "cell_type": "code",
   "execution_count": 3,
   "metadata": {},
   "outputs": [
    {
     "name": "stdout",
     "output_type": "stream",
     "text": [
      "+------+\n",
      "|number|\n",
      "+------+\n",
      "|     0|\n",
      "|     2|\n",
      "|     4|\n",
      "+------+\n",
      "\n"
     ]
    }
   ],
   "source": [
    "# Using Where for Evens \n",
    "evens = my_range.where(\"number % 2 = 0\")\n",
    "evens.show()"
   ]
  },
  {
   "cell_type": "code",
   "execution_count": 4,
   "metadata": {},
   "outputs": [
    {
     "data": {
      "text/plain": [
       "[Row(DEST_COUNTRY_NAME='United States', ORIGIN_COUNTRY_NAME='Romania', count=15),\n",
       " Row(DEST_COUNTRY_NAME='United States', ORIGIN_COUNTRY_NAME='Croatia', count=1),\n",
       " Row(DEST_COUNTRY_NAME='United States', ORIGIN_COUNTRY_NAME='Ireland', count=344)]"
      ]
     },
     "execution_count": 4,
     "metadata": {},
     "output_type": "execute_result"
    }
   ],
   "source": [
    "# Read CSV with InferSchema and Headers\n",
    "# Read is a Transformation. Thus, it has Lazy Evaluation\n",
    "\n",
    "flightData2015 = spark.read \\\n",
    "    .option(\"inferschema\", \"true\") \\\n",
    "    .option(\"header\",\"true\") \\\n",
    "    .csv(\"Data_Files\\Flights.csv\")\n",
    "\n",
    "flightData2015.take(3)"
   ]
  },
  {
   "cell_type": "code",
   "execution_count": 5,
   "metadata": {},
   "outputs": [
    {
     "name": "stdout",
     "output_type": "stream",
     "text": [
      "== Physical Plan ==\n",
      "AdaptiveSparkPlan isFinalPlan=false\n",
      "+- Sort [count#33 ASC NULLS FIRST], true, 0\n",
      "   +- Exchange rangepartitioning(count#33 ASC NULLS FIRST, 200), ENSURE_REQUIREMENTS, [plan_id=53]\n",
      "      +- FileScan csv [DEST_COUNTRY_NAME#31,ORIGIN_COUNTRY_NAME#32,count#33] Batched: false, DataFilters: [], Format: CSV, Location: InMemoryFileIndex(1 paths)[file:/c:/Users/PRATIK/Documents/Practice/PySpark_Practice/Databricks_B..., PartitionFilters: [], PushedFilters: [], ReadSchema: struct<DEST_COUNTRY_NAME:string,ORIGIN_COUNTRY_NAME:string,count:int>\n",
      "\n",
      "\n"
     ]
    }
   ],
   "source": [
    "# Explain - Physical Plan\n",
    "\n",
    "flightData2015.sort(\"count\").explain()"
   ]
  },
  {
   "cell_type": "code",
   "execution_count": 6,
   "metadata": {},
   "outputs": [
    {
     "data": {
      "text/plain": [
       "[Row(DEST_COUNTRY_NAME='United States', ORIGIN_COUNTRY_NAME='Croatia', count=1),\n",
       " Row(DEST_COUNTRY_NAME='Ireland', ORIGIN_COUNTRY_NAME='Afganistan', count=2)]"
      ]
     },
     "execution_count": 6,
     "metadata": {},
     "output_type": "execute_result"
    }
   ],
   "source": [
    "spark.conf.set(\"spark.sql.shuffle.partitions\",\"5\")      # Set to 5, Becoz Default Shuffle Partitions is 200\n",
    "\n",
    "flightData2015.sort(\"count\").take(2)"
   ]
  },
  {
   "cell_type": "code",
   "execution_count": 7,
   "metadata": {},
   "outputs": [
    {
     "data": {
      "text/plain": [
       "1"
      ]
     },
     "execution_count": 7,
     "metadata": {},
     "output_type": "execute_result"
    }
   ],
   "source": [
    "flightData2015.rdd.getNumPartitions()"
   ]
  },
  {
   "cell_type": "code",
   "execution_count": 8,
   "metadata": {},
   "outputs": [
    {
     "name": "stdout",
     "output_type": "stream",
     "text": [
      "+-----------------+--------+\n",
      "|DEST_COUNTRY_NAME|count(1)|\n",
      "+-----------------+--------+\n",
      "|   United Kingdom|       2|\n",
      "|          Ireland|       1|\n",
      "|          Germany|       1|\n",
      "|           Russia|       1|\n",
      "|    United States|       3|\n",
      "|            India|       1|\n",
      "+-----------------+--------+\n",
      "\n",
      "+-----------------+-----+\n",
      "|DEST_COUNTRY_NAME|count|\n",
      "+-----------------+-----+\n",
      "|   United Kingdom|    2|\n",
      "|          Ireland|    1|\n",
      "|          Germany|    1|\n",
      "|           Russia|    1|\n",
      "|    United States|    3|\n",
      "|            India|    1|\n",
      "+-----------------+-----+\n",
      "\n",
      "== Physical Plan ==\n",
      "AdaptiveSparkPlan isFinalPlan=false\n",
      "+- HashAggregate(keys=[DEST_COUNTRY_NAME#31], functions=[count(1)])\n",
      "   +- Exchange hashpartitioning(DEST_COUNTRY_NAME#31, 5), ENSURE_REQUIREMENTS, [plan_id=160]\n",
      "      +- HashAggregate(keys=[DEST_COUNTRY_NAME#31], functions=[partial_count(1)])\n",
      "         +- FileScan csv [DEST_COUNTRY_NAME#31] Batched: false, DataFilters: [], Format: CSV, Location: InMemoryFileIndex(1 paths)[file:/c:/Users/PRATIK/Documents/Practice/PySpark_Practice/Databricks_B..., PartitionFilters: [], PushedFilters: [], ReadSchema: struct<DEST_COUNTRY_NAME:string>\n",
      "\n",
      "\n",
      "== Physical Plan ==\n",
      "AdaptiveSparkPlan isFinalPlan=false\n",
      "+- HashAggregate(keys=[DEST_COUNTRY_NAME#31], functions=[count(1)])\n",
      "   +- Exchange hashpartitioning(DEST_COUNTRY_NAME#31, 5), ENSURE_REQUIREMENTS, [plan_id=173]\n",
      "      +- HashAggregate(keys=[DEST_COUNTRY_NAME#31], functions=[partial_count(1)])\n",
      "         +- FileScan csv [DEST_COUNTRY_NAME#31] Batched: false, DataFilters: [], Format: CSV, Location: InMemoryFileIndex(1 paths)[file:/c:/Users/PRATIK/Documents/Practice/PySpark_Practice/Databricks_B..., PartitionFilters: [], PushedFilters: [], ReadSchema: struct<DEST_COUNTRY_NAME:string>\n",
      "\n",
      "\n"
     ]
    }
   ],
   "source": [
    "flightData2015.createOrReplaceTempView(\"flights_data_2015\")\n",
    "\n",
    "# SQL Way\n",
    "flights_sql_res = spark.sql(\"\"\"\n",
    "SELECT DEST_COUNTRY_NAME, count(1)\n",
    "FROM flights_data_2015\n",
    "GROUP BY DEST_COUNTRY_NAME\"\"\")\n",
    "\n",
    "flights_sql_res.show()\n",
    "\n",
    "# Dataframe Way\n",
    "flights_df_res = flightData2015 \\\n",
    "    .groupBy(\"DEST_COUNTRY_NAME\") \\\n",
    "    .count()\n",
    "\n",
    "flights_df_res.show()\n",
    "\n",
    "# It does not matter which way we use, final plan which Spark complies remains the same\n",
    "flights_sql_res.explain()\n",
    "flights_df_res.explain()"
   ]
  },
  {
   "cell_type": "code",
   "execution_count": 9,
   "metadata": {},
   "outputs": [
    {
     "name": "stdout",
     "output_type": "stream",
     "text": [
      "+----------+\n",
      "|max(count)|\n",
      "+----------+\n",
      "|       344|\n",
      "+----------+\n",
      "\n"
     ]
    },
    {
     "data": {
      "text/plain": [
       "[Row(max(count)=344)]"
      ]
     },
     "execution_count": 9,
     "metadata": {},
     "output_type": "execute_result"
    }
   ],
   "source": [
    "# Max\n",
    "# SQL\n",
    "spark.sql(\"\"\" SELECT MAX(count) FROM flights_data_2015 \"\"\").show()\n",
    "\n",
    "# DF\n",
    "from pyspark.sql.functions import max\n",
    "flightData2015.select(max(\"count\")).take(1)"
   ]
  },
  {
   "cell_type": "code",
   "execution_count": 10,
   "metadata": {},
   "outputs": [
    {
     "data": {
      "text/plain": [
       "[Row(DEST_COUNTRY_NAME='United States', Destination_Total=360),\n",
       " Row(DEST_COUNTRY_NAME='United Kingdom', Destination_Total=25),\n",
       " Row(DEST_COUNTRY_NAME='Germany', Destination_Total=10),\n",
       " Row(DEST_COUNTRY_NAME='Russia', Destination_Total=5),\n",
       " Row(DEST_COUNTRY_NAME='India', Destination_Total=5)]"
      ]
     },
     "execution_count": 10,
     "metadata": {},
     "output_type": "execute_result"
    }
   ],
   "source": [
    "max_sql = spark.sql(\"\"\"\n",
    "SELECT DEST_COUNTRY_NAME, SUM(count) AS Destination_Total\n",
    "FROM flights_data_2015\n",
    "GROUP BY DEST_COUNTRY_NAME\n",
    "ORDER BY SUM(count) DESC\n",
    "LIMIT 5\n",
    "\"\"\")\n",
    "\n",
    "max_sql.collect()"
   ]
  },
  {
   "cell_type": "code",
   "execution_count": 11,
   "metadata": {},
   "outputs": [
    {
     "name": "stdout",
     "output_type": "stream",
     "text": [
      "== Physical Plan ==\n",
      "AdaptiveSparkPlan isFinalPlan=false\n",
      "+- TakeOrderedAndProject(limit=5, orderBy=[destination_total#121L DESC NULLS LAST], output=[DEST_COUNTRY_NAME#31,destination_total#121L])\n",
      "   +- HashAggregate(keys=[DEST_COUNTRY_NAME#31], functions=[sum(count#33)])\n",
      "      +- Exchange hashpartitioning(DEST_COUNTRY_NAME#31, 5), ENSURE_REQUIREMENTS, [plan_id=298]\n",
      "         +- HashAggregate(keys=[DEST_COUNTRY_NAME#31], functions=[partial_sum(count#33)])\n",
      "            +- FileScan csv [DEST_COUNTRY_NAME#31,count#33] Batched: false, DataFilters: [], Format: CSV, Location: InMemoryFileIndex(1 paths)[file:/c:/Users/PRATIK/Documents/Practice/PySpark_Practice/Databricks_B..., PartitionFilters: [], PushedFilters: [], ReadSchema: struct<DEST_COUNTRY_NAME:string,count:int>\n",
      "\n",
      "\n"
     ]
    },
    {
     "data": {
      "text/plain": [
       "[Row(DEST_COUNTRY_NAME='United States', destination_total=360),\n",
       " Row(DEST_COUNTRY_NAME='United Kingdom', destination_total=25),\n",
       " Row(DEST_COUNTRY_NAME='Germany', destination_total=10),\n",
       " Row(DEST_COUNTRY_NAME='Russia', destination_total=5),\n",
       " Row(DEST_COUNTRY_NAME='India', destination_total=5)]"
      ]
     },
     "execution_count": 11,
     "metadata": {},
     "output_type": "execute_result"
    }
   ],
   "source": [
    "from pyspark.sql.functions import desc\n",
    "\n",
    "max_df = flightData2015 \\\n",
    "    .groupBy(\"DEST_COUNTRY_NAME\") \\\n",
    "    .sum(\"count\") \\\n",
    "    .withColumnRenamed(\"sum(count)\", \"destination_total\") \\\n",
    "    .sort(desc(\"destination_total\")) \\\n",
    "    .limit(5)\n",
    "\n",
    "max_df.explain()\n",
    "\n",
    "max_df.collect()"
   ]
  },
  {
   "cell_type": "code",
   "execution_count": 12,
   "metadata": {},
   "outputs": [
    {
     "name": "stdout",
     "output_type": "stream",
     "text": [
      "root\n",
      " |-- InvoiceNo: integer (nullable = true)\n",
      " |-- StockCode: string (nullable = true)\n",
      " |-- Description: string (nullable = true)\n",
      " |-- Quantity: integer (nullable = true)\n",
      " |-- InvoiceDate: timestamp (nullable = true)\n",
      " |-- UnitPrice: double (nullable = true)\n",
      " |-- CustomerID: double (nullable = true)\n",
      " |-- Country: string (nullable = true)\n",
      "\n"
     ]
    }
   ],
   "source": [
    "#  Spark Streaming Example\n",
    "\n",
    "staticDataFrame = spark.read.format(\"csv\")\\\n",
    "    .option(\"header\", \"true\")\\\n",
    "    .option(\"inferSchema\", \"true\")\\\n",
    "    .load(\"Data_Files/Retail.csv\")\n",
    "\n",
    "staticDataFrame.createOrReplaceTempView(\"retail_data\")\n",
    "\n",
    "staticSchema = staticDataFrame.schema\n",
    "staticDataFrame.printSchema()"
   ]
  },
  {
   "cell_type": "code",
   "execution_count": 13,
   "metadata": {},
   "outputs": [
    {
     "name": "stdout",
     "output_type": "stream",
     "text": [
      "+-----------+--------+\n",
      "|InvoiceDate|count(1)|\n",
      "+-----------+--------+\n",
      "| 2010-12-01|       6|\n",
      "| 2010-12-03|       3|\n",
      "| 2010-12-05|       1|\n",
      "| 2010-12-02|       1|\n",
      "+-----------+--------+\n",
      "\n"
     ]
    }
   ],
   "source": [
    "spark.sql(\"\"\"\n",
    "SELECT DISTINCT DATE(InvoiceDate), COUNT(*)\n",
    "FROM retail_data\n",
    "GROUP BY 1\n",
    "ORDER BY 2 DESC\n",
    "\"\"\").show()"
   ]
  },
  {
   "cell_type": "code",
   "execution_count": 14,
   "metadata": {},
   "outputs": [
    {
     "name": "stdout",
     "output_type": "stream",
     "text": [
      "+----------+------------------------------------------+------------------+\n",
      "|CustomerId|window                                    |sum(total_cost)   |\n",
      "+----------+------------------------------------------+------------------+\n",
      "|17850.0   |{2010-12-01 05:30:00, 2010-12-02 05:30:00}|112.92000000000002|\n",
      "|17850.0   |{2010-12-03 05:30:00, 2010-12-04 05:30:00}|15.3              |\n",
      "|17850.0   |{2010-12-05 05:30:00, 2010-12-06 05:30:00}|11.100000000000001|\n",
      "|13047.0   |{2010-12-03 05:30:00, 2010-12-04 05:30:00}|108.16            |\n",
      "|17850.0   |{2010-12-02 05:30:00, 2010-12-03 05:30:00}|22.0              |\n",
      "+----------+------------------------------------------+------------------+\n",
      "\n"
     ]
    }
   ],
   "source": [
    "# Windowing per day based on a Business Column\n",
    "\n",
    "from pyspark.sql.functions import window, column, col, desc\n",
    "\n",
    "staticDataFrame \\\n",
    ".selectExpr(\n",
    "    \"CustomerId\",\n",
    "    \"(UnitPrice*Quantity) as total_cost\",\n",
    "    \"InvoiceDate\")\\\n",
    ".groupBy(\n",
    "    col(\"CustomerId\"), window(col(\"InvoiceDate\"), \"1 day\"))\\\n",
    ".sum(\"total_cost\")\\\n",
    ".show(truncate=False)"
   ]
  },
  {
   "cell_type": "code",
   "execution_count": 15,
   "metadata": {},
   "outputs": [
    {
     "data": {
      "text/plain": [
       "'\\n# Reading Stream\\nstreamingDataFrame = spark.readStream .schema(staticSchema)\\\\     # Providing Schema of Streaming Data\\n .option(\"maxFilesPerTrigger\", 1) .format(\"csv\") .option(\"header\", \"true\") .load(\".../*.csv\")\\n\\nstreamingDataFrame.isStreaming      # returns true\\n\\npurchaseByCustomerPerHour = streamingDataFrame .selectExpr(\\n \"CustomerId\",\\n \"(UnitPrice * Quantity) as total_cost\" ,\\n \"InvoiceDate\" ) .groupBy(\\n col(\"CustomerId\"), window(col(\"InvoiceDate\"), \"1 day\")) .sum(\"total_cost\")\\n\\n# But to Run, we have to call an Action\\n# Streaming has different actions\\npurchaseByCustomerPerHour.writeStream .format(\"memory\")\\\\     #  memory = store in-memory table | For writing to Console >> .format(\"console\")\\n .queryName(\"customer_purchases\")\\\\      # customer_purchases = name of the in-memory table\\n .outputMode(\"complete\")\\\\       #  complete = all the counts should be in the table\\n .start()\\n'"
      ]
     },
     "execution_count": 15,
     "metadata": {},
     "output_type": "execute_result"
    }
   ],
   "source": [
    "# Converting above Batch logic to Stream\n",
    "# Won't Run, but keeping the Syntax for References\n",
    "\"\"\"\n",
    "# Reading Stream\n",
    "streamingDataFrame = spark.readStream\\\n",
    " .schema(staticSchema)\\     # Providing Schema of Streaming Data\n",
    " .option(\"maxFilesPerTrigger\", 1)\\\n",
    " .format(\"csv\")\\\n",
    " .option(\"header\", \"true\")\\\n",
    " .load(\".../*.csv\")\n",
    "\n",
    "streamingDataFrame.isStreaming      # returns true\n",
    "\n",
    "purchaseByCustomerPerHour = streamingDataFrame\\\n",
    " .selectExpr(\n",
    " \"CustomerId\",\n",
    " \"(UnitPrice * Quantity) as total_cost\" ,\n",
    " \"InvoiceDate\" )\\\n",
    " .groupBy(\n",
    " col(\"CustomerId\"), window(col(\"InvoiceDate\"), \"1 day\"))\\\n",
    " .sum(\"total_cost\")\n",
    "\n",
    "# But to Run, we have to call an Action\n",
    "# Streaming has different actions\n",
    "purchaseByCustomerPerHour.writeStream\\\n",
    " .format(\"memory\")\\     #  memory = store in-memory table | For writing to Console >> .format(\"console\")\n",
    " .queryName(\"customer_purchases\")\\      # customer_purchases = name of the in-memory table\n",
    " .outputMode(\"complete\")\\       #  complete = all the counts should be in the table\n",
    " .start()\n",
    "\"\"\""
   ]
  },
  {
   "cell_type": "code",
   "execution_count": 16,
   "metadata": {},
   "outputs": [
    {
     "name": "stdout",
     "output_type": "stream",
     "text": [
      "+-------+\n",
      "|Numbers|\n",
      "+-------+\n",
      "|      1|\n",
      "|      2|\n",
      "|      3|\n",
      "+-------+\n",
      "\n"
     ]
    }
   ],
   "source": [
    "# Lower Level APIs - RDD\n",
    "# Parallelizing RDD into a DF\n",
    "\n",
    "from pyspark.sql import Row\n",
    "\n",
    "spark.sparkContext.parallelize([Row(1), Row(2), Row(3)]).toDF()\\\n",
    "    .withColumnRenamed(\"_1\", \"Numbers\")\\\n",
    "    .show()"
   ]
  },
  {
   "cell_type": "code",
   "execution_count": 17,
   "metadata": {},
   "outputs": [
    {
     "data": {
      "text/plain": [
       "DataFrame[5: int, five: string, 5.0: double]"
      ]
     },
     "execution_count": 17,
     "metadata": {},
     "output_type": "execute_result"
    }
   ],
   "source": [
    "# lit Function - Converting to Spark Native Type\n",
    "\n",
    "from pyspark.sql.functions import lit\n",
    "\n",
    "df = spark.read.format(\"csv\")\\\n",
    "    .option(\"inferSchema\", \"true\")\\\n",
    "    .option(\"header\", \"true\")\\\n",
    "    .load(\"Data_Files/Retail.csv\")\n",
    "\n",
    "df.select(lit(5), lit(\"five\"), lit(5.0))"
   ]
  },
  {
   "cell_type": "code",
   "execution_count": 18,
   "metadata": {},
   "outputs": [
    {
     "name": "stdout",
     "output_type": "stream",
     "text": [
      "+---------+-----------------------------+\n",
      "|InvoiceNo|Description                  |\n",
      "+---------+-----------------------------+\n",
      "|536366   |HAND WARMER UNION JACK       |\n",
      "|536366   |HAND WARMER RED POLKA DOT    |\n",
      "|536367   |ASSORTED COLOUR BIRD ORNAMENT|\n",
      "|536367   |null                         |\n",
      "+---------+-----------------------------+\n",
      "\n",
      "+---------+-----------------------------+\n",
      "|InvoiceNo|Description                  |\n",
      "+---------+-----------------------------+\n",
      "|536366   |HAND WARMER UNION JACK       |\n",
      "|536366   |HAND WARMER RED POLKA DOT    |\n",
      "|536367   |ASSORTED COLOUR BIRD ORNAMENT|\n",
      "|536367   |null                         |\n",
      "+---------+-----------------------------+\n",
      "\n"
     ]
    }
   ],
   "source": [
    "# using Where\n",
    "\n",
    "# Way 1 using col()\n",
    "\n",
    "df.where(col(\"InvoiceNo\") != 536365)\\\n",
    "    .select(\"InvoiceNo\", \"Description\")\\\n",
    "    .show(5, False)\n",
    "\n",
    "# Way 2 using Expression String\n",
    "df.where(\"InvoiceNo != 536365\")\\\n",
    "    .select(\"InvoiceNo\", \"Description\")\\\n",
    "    .show(5, False)"
   ]
  },
  {
   "cell_type": "code",
   "execution_count": 19,
   "metadata": {},
   "outputs": [
    {
     "name": "stdout",
     "output_type": "stream",
     "text": [
      "+---------+---------+-------------------+--------+-------------------+---------+----------+--------------+\n",
      "|InvoiceNo|StockCode|        Description|Quantity|        InvoiceDate|UnitPrice|CustomerID|       Country|\n",
      "+---------+---------+-------------------+--------+-------------------+---------+----------+--------------+\n",
      "|   536365|    71053|WHITE METAL LANTERN|       6|2010-12-01 08:26:00|     3.39|   17850.0|United Kingdom|\n",
      "+---------+---------+-------------------+--------+-------------------+---------+----------+--------------+\n",
      "\n",
      "+---------+---------+-------------------+--------+-------------------+---------+----------+--------------+\n",
      "|InvoiceNo|StockCode|        Description|Quantity|        InvoiceDate|UnitPrice|CustomerID|       Country|\n",
      "+---------+---------+-------------------+--------+-------------------+---------+----------+--------------+\n",
      "|   536365|    71053|WHITE METAL LANTERN|       6|2010-12-01 08:26:00|     3.39|   17850.0|United Kingdom|\n",
      "+---------+---------+-------------------+--------+-------------------+---------+----------+--------------+\n",
      "\n"
     ]
    }
   ],
   "source": [
    "# More Difficult Where Example\n",
    "from pyspark.sql.functions import instr\n",
    "\n",
    "priceFilter = col(\"Unitprice\") > 1.85\n",
    "descriptionFilter = instr(df.Description, \"WHITE\") >= 1\n",
    "\n",
    "# col(\"StockCode\") and df.StockCode - Ways to access a column of Dataframe\n",
    "# where and filter - Are Alias in case of DF. Both works similarly for Dataframes\n",
    "\n",
    "df.where(col(\"StockCode\").isin(\"71053\"))\\\n",
    "    .where(priceFilter | descriptionFilter)\\\n",
    "    .show()\n",
    "\n",
    "df.filter(df.StockCode.isin(\"71053\"))\\\n",
    "    .filter(priceFilter | descriptionFilter)\\\n",
    "    .show()"
   ]
  },
  {
   "cell_type": "code",
   "execution_count": 20,
   "metadata": {},
   "outputs": [
    {
     "name": "stdout",
     "output_type": "stream",
     "text": [
      "+---------+---------+-------------------+--------+-------------------+---------+----------+--------------+\n",
      "|InvoiceNo|StockCode|        Description|Quantity|        InvoiceDate|UnitPrice|CustomerID|       Country|\n",
      "+---------+---------+-------------------+--------+-------------------+---------+----------+--------------+\n",
      "|   536365|    71053|WHITE METAL LANTERN|       6|2010-12-01 08:26:00|     3.39|   17850.0|United Kingdom|\n",
      "+---------+---------+-------------------+--------+-------------------+---------+----------+--------------+\n",
      "\n"
     ]
    }
   ],
   "source": [
    "spark.sql(\"\"\"\n",
    "SELECT *\n",
    "FROM retail_data\n",
    "WHERE \n",
    "StockCode in (\"71053\") AND\n",
    "(UnitPrice > 1.85 OR instr(Description, \"WHITE\") >= 1 )\n",
    "\"\"\").show()"
   ]
  },
  {
   "cell_type": "code",
   "execution_count": 21,
   "metadata": {},
   "outputs": [
    {
     "name": "stdout",
     "output_type": "stream",
     "text": [
      "+---------+-----------+\n",
      "|unitPrice|isExpensive|\n",
      "+---------+-----------+\n",
      "|     3.39|       true|\n",
      "+---------+-----------+\n",
      "\n",
      "+---------+-----------+\n",
      "|UnitPrice|isExpensive|\n",
      "+---------+-----------+\n",
      "|     2.55|      false|\n",
      "|     3.39|       true|\n",
      "|     2.75|      false|\n",
      "|     3.39|      false|\n",
      "|     3.39|      false|\n",
      "|     7.65|      false|\n",
      "|     4.25|      false|\n",
      "|     1.85|      false|\n",
      "|     1.85|      false|\n",
      "|     1.69|      false|\n",
      "|     1.69|      false|\n",
      "+---------+-----------+\n",
      "\n"
     ]
    }
   ],
   "source": [
    "# Where vs Filter\n",
    "\"\"\"\n",
    "Where - \n",
    "- is for Dataframes\n",
    "- SQL like conditions\n",
    "- Alias for Filter\n",
    "Filter \n",
    "- for Dataframes and RDDs\n",
    "- Supports lamda function for advanced filters\n",
    "\"\"\"\n",
    "\n",
    "# Use & for and, | for or, ~ for not In DF boolean expressions\n",
    "DOTCodeFilter = col(\"StockCode\") == \"71053\"\n",
    "priceFilter = col(\"UnitPrice\") > 1.85\n",
    "descripFilter = instr(col(\"Description\"), \"WHITE\") >= 1\n",
    "df.withColumn(\"isExpensive\",\n",
    "DOTCodeFilter & (priceFilter | descripFilter))\\\n",
    ".where(\"isExpensive\")\\\n",
    ".select(\"unitPrice\", \"isExpensive\")\\\n",
    ".show(5)\n",
    "\n",
    "spark.sql(\"\"\"\n",
    "SELECT\n",
    "UnitPrice,\n",
    "(StockCode = \"71053\" AND\n",
    "(UnitPrice > 1.85 OR\n",
    "instr(Description, \"WHITE\") >= 1)) as isExpensive\n",
    "FROM retail_data\n",
    "\"\"\").show()"
   ]
  },
  {
   "cell_type": "code",
   "execution_count": 22,
   "metadata": {},
   "outputs": [
    {
     "name": "stdout",
     "output_type": "stream",
     "text": [
      "+--------------------+---------+-----------+\n",
      "|         Description|UnitPrice|isExpensive|\n",
      "+--------------------+---------+-----------+\n",
      "|RED WHITE HANGING...|     2.55|       true|\n",
      "| WHITE METAL LANTERN|     3.39|       true|\n",
      "|CREAM CUPID HEART...|     2.75|       true|\n",
      "|KNITTED UNION FLA...|     3.39|       true|\n",
      "|RED WOOLLY HOTTIE...|     3.39|       true|\n",
      "|SET 7 BABUSHKA NE...|     7.65|       true|\n",
      "|GLASS STAR FROSTE...|     4.25|       true|\n",
      "+--------------------+---------+-----------+\n",
      "\n"
     ]
    }
   ],
   "source": [
    "from pyspark.sql.functions import expr, col\n",
    "\n",
    "df.withColumn(\"isExpensive\", expr(\"NOT UnitPrice <= 1.85\"))\\\n",
    "    .where(col(\"isExpensive\"))\\\n",
    "    .select(\"Description\", \"UnitPrice\", \"isExpensive\").show()"
   ]
  },
  {
   "cell_type": "code",
   "execution_count": 23,
   "metadata": {},
   "outputs": [
    {
     "name": "stdout",
     "output_type": "stream",
     "text": [
      "+---------+---------+-----------+--------+-----------+---------+----------+-------+\n",
      "|InvoiceNo|StockCode|Description|Quantity|InvoiceDate|UnitPrice|CustomerID|Country|\n",
      "+---------+---------+-----------+--------+-----------+---------+----------+-------+\n",
      "+---------+---------+-----------+--------+-----------+---------+----------+-------+\n",
      "\n"
     ]
    }
   ],
   "source": [
    "# To perform a null safe equivalence test\n",
    "df.where(col(\"Description\").eqNullSafe(\"hello\")).show()"
   ]
  },
  {
   "cell_type": "code",
   "execution_count": 24,
   "metadata": {},
   "outputs": [
    {
     "name": "stdout",
     "output_type": "stream",
     "text": [
      "+----------+------------------+\n",
      "|CustomerId|           RealQty|\n",
      "+----------+------------------+\n",
      "|   17850.0|239.08999999999997|\n",
      "|   17850.0|          418.7156|\n",
      "|   17850.0|             489.0|\n",
      "+----------+------------------+\n",
      "only showing top 3 rows\n",
      "\n",
      "+----------+------------------+\n",
      "|CustomerId|           RealQty|\n",
      "+----------+------------------+\n",
      "|   17850.0|239.08999999999997|\n",
      "|   17850.0|          418.7156|\n",
      "|   17850.0|             489.0|\n",
      "+----------+------------------+\n",
      "only showing top 3 rows\n",
      "\n"
     ]
    }
   ],
   "source": [
    "# Mathematical Examples\n",
    "# pow and expr\n",
    "from pyspark.sql.functions import expr, pow\n",
    "\n",
    "fabricatedQty = pow( (col(\"Quantity\") * col(\"UnitPrice\")), 2) + 5\n",
    "df.select(\n",
    "    expr(\"CustomerId\"),\n",
    "    fabricatedQty.alias(\"RealQty\")\n",
    ").show(3)\n",
    "\n",
    "# Other Way\n",
    "df.selectExpr(\n",
    "    \"CustomerId\",\n",
    "    \"(POWER((Quantity*UnitPrice),2)+5) as RealQty\"\n",
    ").show(3)"
   ]
  },
  {
   "cell_type": "code",
   "execution_count": 25,
   "metadata": {},
   "outputs": [
    {
     "name": "stdout",
     "output_type": "stream",
     "text": [
      "+-------------+--------------+-------------+--------------+\n",
      "|round(2.5, 0)|bround(2.5, 0)|round(2.4, 0)|bround(2.6, 0)|\n",
      "+-------------+--------------+-------------+--------------+\n",
      "|          3.0|           2.0|          2.0|           3.0|\n",
      "|          3.0|           2.0|          2.0|           3.0|\n",
      "+-------------+--------------+-------------+--------------+\n",
      "only showing top 2 rows\n",
      "\n"
     ]
    }
   ],
   "source": [
    "# Round, BRound\n",
    "from pyspark.sql.functions import round, bround, lit\n",
    "\n",
    "df.select(\n",
    "    round(lit(\"2.5\")),      # Round to Ceil\n",
    "    bround(lit(\"2.5\")),     # Round to Bottom when Exact Centre Number is Rounder eg. 2.5 \n",
    "    round(lit(\"2.4\")),\n",
    "    bround(lit(\"2.6\"))\n",
    ").show(2)"
   ]
  },
  {
   "cell_type": "code",
   "execution_count": 26,
   "metadata": {},
   "outputs": [
    {
     "name": "stdout",
     "output_type": "stream",
     "text": [
      "+-------+------------------+------------------+--------------------+------------------+------------------+------------------+--------------+\n",
      "|summary|         InvoiceNo|         StockCode|         Description|          Quantity|         UnitPrice|        CustomerID|       Country|\n",
      "+-------+------------------+------------------+--------------------+------------------+------------------+------------------+--------------+\n",
      "|  count|                11|                11|                  10|                11|                11|                11|            11|\n",
      "|   mean| 536365.5454545454| 47222.57142857143|                null|10.545454545454545|3.1318181818181823|16976.727272727272|          null|\n",
      "| stddev|0.8201995322555489|31256.801504404033|                null|10.699192832766744|1.7260464546576852|1942.9091636465712|          null|\n",
      "|    min|            536365|             21730|ASSORTED COLOUR B...|                 2|              1.69|           13047.0|United Kingdom|\n",
      "|    max|            536367|            85123A| WHITE METAL LANTERN|                32|              7.65|           17850.0|United Kingdom|\n",
      "+-------+------------------+------------------+--------------------+------------------+------------------+------------------+--------------+\n",
      "\n"
     ]
    }
   ],
   "source": [
    "# Describes a DF\n",
    "df.describe().show()"
   ]
  },
  {
   "cell_type": "code",
   "execution_count": 27,
   "metadata": {},
   "outputs": [
    {
     "name": "stdout",
     "output_type": "stream",
     "text": [
      "+-----------------------------+\n",
      "|monotonically_increasing_id()|\n",
      "+-----------------------------+\n",
      "|                            0|\n",
      "|                            1|\n",
      "|                            2|\n",
      "|                            3|\n",
      "|                            4|\n",
      "+-----------------------------+\n",
      "only showing top 5 rows\n",
      "\n"
     ]
    }
   ],
   "source": [
    "# Monotonically Increasing ID\n",
    "from pyspark.sql.functions import monotonically_increasing_id\n",
    "\n",
    "df.select(monotonically_increasing_id()).show(5)"
   ]
  },
  {
   "cell_type": "code",
   "execution_count": 28,
   "metadata": {},
   "outputs": [
    {
     "name": "stdout",
     "output_type": "stream",
     "text": [
      "+------------------+------------+-------------+\n",
      "|initcap(raw mango)|lower(APPLE)|upper(orange)|\n",
      "+------------------+------------+-------------+\n",
      "|         Raw Mango|       apple|       ORANGE|\n",
      "+------------------+------------+-------------+\n",
      "only showing top 1 row\n",
      "\n"
     ]
    }
   ],
   "source": [
    "# String Functions - initcap, lower, upper\n",
    "from pyspark.sql.functions import initcap, lower, upper\n",
    "\n",
    "df.select(initcap(lit(\"raw mango\")), \n",
    "    lower(lit(\"APPLE\")), \n",
    "    upper(lit(\"orange\")))\\\n",
    "    .show(1)"
   ]
  },
  {
   "cell_type": "code",
   "execution_count": 29,
   "metadata": {},
   "outputs": [
    {
     "name": "stdout",
     "output_type": "stream",
     "text": [
      "+-------+-------+-----+--------+---+--------+---+\n",
      "|  ltrim|  rtrim| trim|     lp8|lp3|     rp8|rp3|\n",
      "+-------+-------+-----+--------+---+--------+---+\n",
      "|APPLE  |  APPLE|APPLE|---APPLE|HEL|APPLE---|HEL|\n",
      "+-------+-------+-----+--------+---+--------+---+\n",
      "only showing top 1 row\n",
      "\n"
     ]
    }
   ],
   "source": [
    "# String Functions - lpad, rpad, ltrim, rtrim, trim\n",
    "from pyspark.sql.functions import lpad, rpad, ltrim, rtrim, trim\n",
    "\n",
    "df.select(\n",
    "    ltrim(lit(\"  APPLE  \")).alias(\"ltrim\"),\n",
    "    rtrim(lit(\"  APPLE  \")).alias(\"rtrim\"),\n",
    "    trim(lit(\"  APPLE  \")).alias(\"trim\"),\n",
    "    lpad(lit(\"APPLE\"), 8, \"-\").alias(\"lp8\"),\n",
    "    lpad(lit(\"HELLO\"), 3, \"-\").alias(\"lp3\"),\n",
    "    rpad(lit(\"APPLE\"), 8, \"-\").alias(\"rp8\"),\n",
    "    rpad(lit(\"HELLO\"), 3, \"-\").alias(\"rp3\"),\n",
    ").show(1)\n",
    "\n",
    "# Note -  lpad or rpad takes a number less than the length of the string, it \n",
    "# will always remove values from the right side of the string.\n"
   ]
  },
  {
   "cell_type": "code",
   "execution_count": 30,
   "metadata": {},
   "outputs": [
    {
     "name": "stdout",
     "output_type": "stream",
     "text": [
      "+--------------------+--------------------+\n",
      "|          ColorClean|         Description|\n",
      "+--------------------+--------------------+\n",
      "|COLOR COLOR HANGI...|RED WHITE HANGING...|\n",
      "| COLOR METAL LANTERN| WHITE METAL LANTERN|\n",
      "|COLOR WOOLLY HOTT...|RED WOOLLY HOTTIE...|\n",
      "|HAND WARMER COLOR...|HAND WARMER RED P...|\n",
      "+--------------------+--------------------+\n",
      "\n"
     ]
    }
   ],
   "source": [
    "# Regular Expressions\n",
    "from pyspark.sql.functions import regexp_replace, regexp_extract, translate\n",
    "\n",
    "df.select(\n",
    "    regexp_replace(col(\"Description\"), \"WHITE|RED\", \"COLOR\").alias(\"ColorClean\"),\n",
    "    col(\"Description\"))\\\n",
    "    .where(\"Description LIKE '%RED%' OR Description LIKE '%WHITE%'\")\\\n",
    "    .show(5)"
   ]
  },
  {
   "cell_type": "code",
   "execution_count": 31,
   "metadata": {},
   "outputs": [
    {
     "name": "stdout",
     "output_type": "stream",
     "text": [
      "+--------------------+--------------------+\n",
      "|        CharReplaced|         Description|\n",
      "+--------------------+--------------------+\n",
      "|R3D WHI73 HANGING...|RED WHITE HANGING...|\n",
      "| WHI73 M37A1 1AN73RN| WHITE METAL LANTERN|\n",
      "|CR3AM CUPID H3AR7...|CREAM CUPID HEART...|\n",
      "|KNI773D UNION F1A...|KNITTED UNION FLA...|\n",
      "|R3D WOO11Y HO77I3...|RED WOOLLY HOTTIE...|\n",
      "+--------------------+--------------------+\n",
      "only showing top 5 rows\n",
      "\n"
     ]
    }
   ],
   "source": [
    "df.select(\n",
    "    translate(col(\"Description\"), \"LEET\", \"1337\").alias(\"CharReplaced\"),\n",
    "    col(\"Description\")\n",
    ").show(5)"
   ]
  },
  {
   "cell_type": "code",
   "execution_count": 32,
   "metadata": {},
   "outputs": [
    {
     "name": "stdout",
     "output_type": "stream",
     "text": [
      "+----------+--------------------+\n",
      "|FirstColor|         Description|\n",
      "+----------+--------------------+\n",
      "|       RED|RED WHITE HANGING...|\n",
      "|     WHITE| WHITE METAL LANTERN|\n",
      "|          |CREAM CUPID HEART...|\n",
      "|          |KNITTED UNION FLA...|\n",
      "|       RED|RED WOOLLY HOTTIE...|\n",
      "+----------+--------------------+\n",
      "only showing top 5 rows\n",
      "\n"
     ]
    }
   ],
   "source": [
    "# Pulling out 1st occurance of color\n",
    "regexp_str = \"(RED|WHITE|GREEN)\"\n",
    "df.select(\n",
    "    regexp_extract(col(\"Description\"), regexp_str, 1).alias(\"FirstColor\"),\n",
    "    col(\"Description\")\n",
    ").show(5)"
   ]
  },
  {
   "cell_type": "code",
   "execution_count": 33,
   "metadata": {},
   "outputs": [
    {
     "name": "stdout",
     "output_type": "stream",
     "text": [
      "+--------------------+\n",
      "|         Description|\n",
      "+--------------------+\n",
      "|RED WHITE HANGING...|\n",
      "| WHITE METAL LANTERN|\n",
      "|RED WOOLLY HOTTIE...|\n",
      "|HAND WARMER RED P...|\n",
      "+--------------------+\n",
      "\n"
     ]
    }
   ],
   "source": [
    "# instr : To identify the occurance of a substring in a string\n",
    "\n",
    "red_filter = instr(col(\"Description\"), \"RED\") >= 1\n",
    "white_filter = instr(col(\"Description\"), \"WHITE\") >= 1\n",
    "df.withColumn(\"hasColor\", red_filter | white_filter)\\\n",
    "    .filter(\"hasColor\")\\\n",
    "    .select(col(\"Description\"))\\\n",
    "    .show(5)"
   ]
  },
  {
   "cell_type": "code",
   "execution_count": 34,
   "metadata": {},
   "outputs": [
    {
     "name": "stdout",
     "output_type": "stream",
     "text": [
      "1\n"
     ]
    }
   ],
   "source": [
    "# Current Date and Timestamp Functions\n",
    "from pyspark.sql.functions import current_date, current_timestamp\n",
    "\n",
    "dateDF = spark.range(1)\\\n",
    "    .withColumn(\"date\", current_date())\\\n",
    "    .withColumn(\"datetime\", current_timestamp())\n",
    "\n",
    "print(dateDF.count())\n",
    "\n",
    "dateDF.createOrReplaceTempView(\"dateTable\")"
   ]
  },
  {
   "cell_type": "code",
   "execution_count": 35,
   "metadata": {},
   "outputs": [
    {
     "name": "stdout",
     "output_type": "stream",
     "text": [
      "+---+----------+--------------------------+\n",
      "|id |date      |datetime                  |\n",
      "+---+----------+--------------------------+\n",
      "|0  |2024-04-20|2024-04-20 17:20:38.975437|\n",
      "+---+----------+--------------------------+\n",
      "\n",
      "+----------+--------------------------+\n",
      "|date      |now                       |\n",
      "+----------+--------------------------+\n",
      "|2024-04-20|2024-04-20 17:20:39.019462|\n",
      "+----------+--------------------------+\n",
      "\n"
     ]
    }
   ],
   "source": [
    "dateDF.show(truncate=False)\n",
    "\n",
    "spark.sql(\"\"\"\n",
    "SELECT\n",
    "    current_date() AS date,\n",
    "    current_timestamp() AS now\n",
    "\"\"\").show(truncate=False)"
   ]
  },
  {
   "cell_type": "code",
   "execution_count": 36,
   "metadata": {},
   "outputs": [
    {
     "name": "stdout",
     "output_type": "stream",
     "text": [
      "+----------+----------+\n",
      "|     5less|     5more|\n",
      "+----------+----------+\n",
      "|2024-04-15|2024-04-25|\n",
      "+----------+----------+\n",
      "\n",
      "+---------+---------+\n",
      "|Less-More|More-Less|\n",
      "+---------+---------+\n",
      "|      -10|       10|\n",
      "+---------+---------+\n",
      "\n",
      "+--------------------------------+\n",
      "|months_between(end, start, true)|\n",
      "+--------------------------------+\n",
      "|                             5.0|\n",
      "+--------------------------------+\n",
      "\n"
     ]
    }
   ],
   "source": [
    "from pyspark.sql.functions import date_sub, date_add, datediff, months_between, to_date\n",
    "\n",
    "date_diffDF = dateDF.select(\n",
    "    date_sub(\"date\", 5).alias(\"5less\"),\n",
    "    date_add(\"date\", 5).alias(\"5more\")\n",
    ")\n",
    "\n",
    "date_diffDF.show()\n",
    "\n",
    "date_diffDF.select(\n",
    "    datediff(\"5less\", \"5more\").alias(\"Less-More\"),\n",
    "    datediff(\"5more\", \"5less\").alias(\"More-Less\")\n",
    ").show()\n",
    "\n",
    "# Used spark.range(1) for a Temp Dataframe\n",
    "\n",
    "spark.range(1)\\\n",
    "    .select(\n",
    "    to_date(lit(\"2024-01-20\")).alias(\"start\"),\n",
    "    to_date(lit(\"2024-06-20\")).alias(\"end\"))\\\n",
    "    .select(months_between(col(\"end\"), col(\"start\")))\\\n",
    "    .show(1)"
   ]
  },
  {
   "cell_type": "code",
   "execution_count": 37,
   "metadata": {},
   "outputs": [
    {
     "name": "stdout",
     "output_type": "stream",
     "text": [
      "+---+----------+-----------+\n",
      "| id|  str_date|casted_date|\n",
      "+---+----------+-----------+\n",
      "|  0|2024-05-04| 2024-05-04|\n",
      "+---+----------+-----------+\n",
      "\n",
      "root\n",
      " |-- id: long (nullable = false)\n",
      " |-- str_date: string (nullable = false)\n",
      " |-- casted_date: date (nullable = true)\n",
      "\n"
     ]
    }
   ],
   "source": [
    "to_date_DF = spark.range(1)\\\n",
    "    .withColumn(\"str_date\", lit(\"2024-05-04\"))\\\n",
    "    .withColumn(\"casted_date\", to_date(col(\"str_date\")))\n",
    "\n",
    "to_date_DF.show()\n",
    "\n",
    "to_date_DF.printSchema()        # Notice Types in Schema"
   ]
  },
  {
   "cell_type": "code",
   "execution_count": 38,
   "metadata": {},
   "outputs": [
    {
     "name": "stdout",
     "output_type": "stream",
     "text": [
      "+-------------------+-------------------+\n",
      "|to_date(2020-20-10)|to_date(2020-12-11)|\n",
      "+-------------------+-------------------+\n",
      "|               null|         2020-12-11|\n",
      "+-------------------+-------------------+\n",
      "\n",
      "+-------------------------------+-------------------------------+\n",
      "|to_date(2020-20-10, yyyy-dd-MM)|to_date(2020-12-11, yyyy-dd-MM)|\n",
      "+-------------------------------+-------------------------------+\n",
      "|                     2020-10-20|                     2020-11-12|\n",
      "+-------------------------------+-------------------------------+\n",
      "\n"
     ]
    }
   ],
   "source": [
    "# Spark will return NULL if it is not able to parse the dates\n",
    "# Explicit Format and Cast is Recommended over Implicit for date formats\n",
    "# Default Format = yyyy-MM-dd\n",
    "\n",
    "spark.range(1)\\\n",
    "    .select(to_date(lit(\"2020-20-10\")),     # NULL bcoz format difference\n",
    "    to_date(lit(\"2020-12-11\"))              # As in data format is yyyy-dd-MM, this was 12th Nov, but shown as 11th Dec\n",
    "    ).show()\n",
    "\n",
    "# Standardizing the fromat\n",
    "date_format = \"yyyy-dd-MM\"\n",
    "\n",
    "spark.range(1)\\\n",
    "    .select(to_date(lit(\"2020-20-10\"), date_format),\n",
    "    to_date(lit(\"2020-12-11\"), date_format)\n",
    "    ).show()\n"
   ]
  },
  {
   "cell_type": "code",
   "execution_count": 39,
   "metadata": {},
   "outputs": [
    {
     "name": "stdout",
     "output_type": "stream",
     "text": [
      "+-------------------+----------+\n",
      "|         human_time|epoch_time|\n",
      "+-------------------+----------+\n",
      "|2020-04-21 00:00:00|1587407400|\n",
      "+-------------------+----------+\n",
      "\n",
      "+-------------------+----------+\n",
      "| fetched_human_time|epoch_time|\n",
      "+-------------------+----------+\n",
      "|2020-04-21 00:00:00|1587407400|\n",
      "+-------------------+----------+\n",
      "\n",
      "+------------------------------------+\n",
      "|to_timestamp(2022-12-14, yyyy-MM-dd)|\n",
      "+------------------------------------+\n",
      "|                 2022-12-14 00:00:00|\n",
      "+------------------------------------+\n",
      "\n"
     ]
    }
   ],
   "source": [
    "from pyspark.sql.functions import unix_timestamp, from_unixtime, to_timestamp\n",
    "\n",
    "# Human to Epoch Time\n",
    "epoch_time_df = spark.range(1)\\\n",
    "    .select(\n",
    "    to_timestamp(lit(\"2020-04-21 00:00:00\")).alias(\"human_time\"),\n",
    "    unix_timestamp(lit(\"2020-04-21 00:00:00\")).alias(\"epoch_time\"))\n",
    "\n",
    "epoch_time_df.show()\n",
    "\n",
    "# Epoch Time to Human Time\n",
    "epoch_time_df\\\n",
    "    .select(from_unixtime(col(\"epoch_time\")).alias(\"fetched_human_time\"),\n",
    "    col(\"epoch_time\")\n",
    "    ).show()\n",
    "\n",
    "# Casting to_timestamp\n",
    "spark.range(1)\\\n",
    "    .select(\n",
    "        to_timestamp(lit(\"2022-12-14\"), \"yyyy-MM-dd\")\n",
    "    ).show()"
   ]
  },
  {
   "cell_type": "code",
   "execution_count": 40,
   "metadata": {},
   "outputs": [
    {
     "name": "stdout",
     "output_type": "stream",
     "text": [
      "+-------------------------------------------+\n",
      "|(to_date(2022-12-11) > to_date(2022-12-14))|\n",
      "+-------------------------------------------+\n",
      "|                                      false|\n",
      "+-------------------------------------------+\n",
      "\n"
     ]
    }
   ],
   "source": [
    "# Once dates are in proper format, they can be compared easily\n",
    "spark.range(1)\\\n",
    "    .selectExpr(\"\"\"to_date(\"2022-12-11\") > to_date(\"2022-12-14\")\"\"\")\\\n",
    "    .show()"
   ]
  },
  {
   "cell_type": "code",
   "execution_count": 41,
   "metadata": {},
   "outputs": [
    {
     "name": "stdout",
     "output_type": "stream",
     "text": [
      "+---------------------------------+--------------------+----------+\n",
      "|coalesce(Description, Customerid)|         Description|CustomerId|\n",
      "+---------------------------------+--------------------+----------+\n",
      "|             ASSORTED COLOUR B...|ASSORTED COLOUR B...|   13047.0|\n",
      "|                          13047.0|                null|   13047.0|\n",
      "+---------------------------------+--------------------+----------+\n",
      "\n"
     ]
    }
   ],
   "source": [
    "# Working with Nulls\n",
    "\n",
    "from pyspark.sql.functions import coalesce  #coalesce returns 1st Non NULL Value\n",
    "\n",
    "df.filter(col(\"StockCode\")==84879)\\\n",
    ".select(\n",
    "    coalesce(col(\"Description\"), col(\"Customerid\")),\n",
    "    col(\"Description\"),\n",
    "    col(\"CustomerId\")\n",
    ").show()"
   ]
  },
  {
   "cell_type": "code",
   "execution_count": 46,
   "metadata": {},
   "outputs": [
    {
     "name": "stdout",
     "output_type": "stream",
     "text": [
      "+--------------------------+------------------------------+--------------------+----------------------+-----------------------+---------------------------+--------------------------------------+----------------------------------+\n",
      "|ifnull(NULL, return_value)|ifnull(not_null, return_value)|nullif(value, value)|nullif(value1, value2)|nvl(NULL, return_value)|nvl(not_null, return_value)|nvl2(not_null, return_value, else_val)|nvl2(NULL, return_value, else_val)|\n",
      "+--------------------------+------------------------------+--------------------+----------------------+-----------------------+---------------------------+--------------------------------------+----------------------------------+\n",
      "|              return_value|                      not_null|                null|                value1|           return_value|                   not_null|                          return_value|                          else_val|\n",
      "+--------------------------+------------------------------+--------------------+----------------------+-----------------------+---------------------------+--------------------------------------+----------------------------------+\n",
      "\n"
     ]
    }
   ],
   "source": [
    "# ifnull = Returns 2nd value if 1st is Null. Defaults to 1st\n",
    "# nullif = Returns Null if 1st and 2nd value match. Defaults to 1st\n",
    "# nvl = Return 2nd value if 1st is Null. Defaults to 1st\n",
    "# nvl2 = Returns 2nd value if 1st is Not Null. Defaults to Else value\n",
    "\n",
    "spark.sql(\"\"\"\n",
    "SELECT\n",
    "    ifnull(null, \"return_value\"),\n",
    "    ifnull(\"not_null\", \"return_value\"),\n",
    "    nullif(\"value\", \"value\"),\n",
    "    nullif(\"value1\", \"value2\"),\n",
    "    nvl(null, \"return_value\"),\n",
    "    nvl(\"not_null\", \"return_value\"),\n",
    "    nvl2(\"not_null\", \"return_value\", \"else_val\"),\n",
    "    nvl2(null, \"return_value\", \"else_val\")\n",
    "\"\"\"\n",
    ").show()\n",
    "\n",
    "# Generally Used\n",
    "# IFNULL, COALESCE"
   ]
  },
  {
   "cell_type": "code",
   "execution_count": 67,
   "metadata": {},
   "outputs": [
    {
     "name": "stdout",
     "output_type": "stream",
     "text": [
      "+----+-------+-----+\n",
      "|  id|   name|place|\n",
      "+----+-------+-----+\n",
      "|   1|    ram|   p1|\n",
      "|   3|   shiv|   p3|\n",
      "|null| pratik| null|\n",
      "|   6|   null| null|\n",
      "|   4|hanuman|   p4|\n",
      "+----+-------+-----+\n",
      "\n"
     ]
    }
   ],
   "source": [
    "null_df = spark.read.format(\"csv\")\\\n",
    "    .option(\"inferSchema\", \"true\")\\\n",
    "    .option(\"header\", \"true\")\\\n",
    "    .load(\"Data_Files/NullsData.csv\")\n",
    "\n",
    "null_df.show()"
   ]
  },
  {
   "cell_type": "code",
   "execution_count": 63,
   "metadata": {},
   "outputs": [
    {
     "name": "stdout",
     "output_type": "stream",
     "text": [
      "+---+-------+-----+\n",
      "| id|   name|place|\n",
      "+---+-------+-----+\n",
      "|  1|    ram|   p1|\n",
      "|  3|   shiv|   p3|\n",
      "|  4|hanuman|   p4|\n",
      "+---+-------+-----+\n",
      "\n",
      "+---+-------+-----+\n",
      "| id|   name|place|\n",
      "+---+-------+-----+\n",
      "|  1|    ram|   p1|\n",
      "|  3|   shiv|   p3|\n",
      "|  4|hanuman|   p4|\n",
      "+---+-------+-----+\n",
      "\n",
      "+----+-------+-----+\n",
      "|  id|   name|place|\n",
      "+----+-------+-----+\n",
      "|   1|    ram|   p1|\n",
      "|   3|   shiv|   p3|\n",
      "|null| pratik| null|\n",
      "|   6|   null| null|\n",
      "|   4|hanuman|   p4|\n",
      "+----+-------+-----+\n",
      "\n"
     ]
    }
   ],
   "source": [
    "# all = Drop only if all columns in a row have nulls\n",
    "# any/blank = Drop if any column in a row have null\n",
    "\n",
    "\n",
    "drop_df = null_df.na.drop()\n",
    "drop_df.show()\n",
    "\n",
    "drop_df1 = null_df.na.drop(\"any\")\n",
    "drop_df1.show()\n",
    "\n",
    "drop_df2 = null_df.na.drop(\"all\")\n",
    "drop_df2.show()"
   ]
  },
  {
   "cell_type": "code",
   "execution_count": 66,
   "metadata": {},
   "outputs": [
    {
     "name": "stdout",
     "output_type": "stream",
     "text": [
      "+----+-------+-----+\n",
      "|  id|   name|place|\n",
      "+----+-------+-----+\n",
      "|   1|    ram|   p1|\n",
      "|   3|   shiv|   p3|\n",
      "|null| pratik| null|\n",
      "|   4|hanuman|   p4|\n",
      "+----+-------+-----+\n",
      "\n"
     ]
    }
   ],
   "source": [
    "# All with Subset\n",
    "drop_df3 = null_df.na.drop(\"all\", subset=[\"name\", \"place\"])     # id=6 is that case\n",
    "drop_df3.show()"
   ]
  },
  {
   "cell_type": "code",
   "execution_count": 73,
   "metadata": {},
   "outputs": [
    {
     "name": "stdout",
     "output_type": "stream",
     "text": [
      "+----+-------+-----+\n",
      "|  id|   name|place|\n",
      "+----+-------+-----+\n",
      "|   1|    ram|   p1|\n",
      "|   3|   shiv|   p3|\n",
      "|null| pratik| null|\n",
      "|   6|   null| null|\n",
      "|   4|hanuman|   p4|\n",
      "+----+-------+-----+\n",
      "\n",
      "+----+-------+-------+\n",
      "|  id|   name|  place|\n",
      "+----+-------+-------+\n",
      "|   1|    ram|     p1|\n",
      "|   3|   shiv|     p3|\n",
      "|null| pratik|Fillers|\n",
      "|   6|Fillers|Fillers|\n",
      "|   4|hanuman|     p4|\n",
      "+----+-------+-------+\n",
      "\n"
     ]
    }
   ],
   "source": [
    "null_df.show()\n",
    "\n",
    "null_df.na.fill(\"Fillers\").show()   #Fills all String Columns with Specified value"
   ]
  },
  {
   "cell_type": "code",
   "execution_count": 81,
   "metadata": {},
   "outputs": [
    {
     "name": "stdout",
     "output_type": "stream",
     "text": [
      "+----+----------+----------+\n",
      "|  id|      name|     place|\n",
      "+----+----------+----------+\n",
      "|   1|       ram|        p1|\n",
      "|   3|      shiv|        p3|\n",
      "|null|    pratik|Filler_Val|\n",
      "|   6|Filler_Val|Filler_Val|\n",
      "|   4|   hanuman|        p4|\n",
      "+----+----------+----------+\n",
      "\n"
     ]
    }
   ],
   "source": [
    "null_df.na.fill(\"Filler_Val\", subset=[\"name\", \"place\"]).show()      # Filing for subset of columns"
   ]
  },
  {
   "cell_type": "code",
   "execution_count": 83,
   "metadata": {},
   "outputs": [
    {
     "name": "stdout",
     "output_type": "stream",
     "text": [
      "+---+--------+-----+\n",
      "| id|    name|place|\n",
      "+---+--------+-----+\n",
      "|  1|     ram|   p1|\n",
      "|  3|    shiv|   p3|\n",
      "| 10|  pratik| null|\n",
      "|  6|TestName| null|\n",
      "|  4| hanuman|   p4|\n",
      "+---+--------+-----+\n",
      "\n"
     ]
    }
   ],
   "source": [
    "# Filling values from a Map\n",
    "fillers = {\n",
    "    \"id\":10,\n",
    "    \"name\":\"TestName\"\n",
    "}\n",
    "\n",
    "null_df.na.fill(fillers).show()     # Filling specified default values from a Map/Dictionary"
   ]
  },
  {
   "cell_type": "code",
   "execution_count": 84,
   "metadata": {},
   "outputs": [
    {
     "name": "stdout",
     "output_type": "stream",
     "text": [
      "+----+---------------+-----+\n",
      "|  id|           name|place|\n",
      "+----+---------------+-----+\n",
      "|   1|            ram|   p1|\n",
      "|   3|           shiv|   p3|\n",
      "|null|replaced_pratik| null|\n",
      "|   6|           null| null|\n",
      "|   4|        hanuman|   p4|\n",
      "+----+---------------+-----+\n",
      "\n"
     ]
    }
   ],
   "source": [
    "# Replace in a Column (value_to_replace, replacement_value, in_which_column)\n",
    "null_df.na.replace(\"pratik\", \"replaced_pratik\", \"name\").show()"
   ]
  },
  {
   "cell_type": "code",
   "execution_count": 88,
   "metadata": {},
   "outputs": [
    {
     "name": "stdout",
     "output_type": "stream",
     "text": [
      "+----+-------+-----+\n",
      "|  id|   name|place|\n",
      "+----+-------+-----+\n",
      "|null| pratik| null|\n",
      "|   1|    ram|   p1|\n",
      "|   3|   shiv|   p3|\n",
      "|   4|hanuman|   p4|\n",
      "|   6|   null| null|\n",
      "+----+-------+-----+\n",
      "\n",
      "+----+-------+-----+\n",
      "|  id|   name|place|\n",
      "+----+-------+-----+\n",
      "|   6|   null| null|\n",
      "|   4|hanuman|   p4|\n",
      "|   3|   shiv|   p3|\n",
      "|   1|    ram|   p1|\n",
      "|null| pratik| null|\n",
      "+----+-------+-----+\n",
      "\n"
     ]
    }
   ],
   "source": [
    "# Ordering in Dataframe\n",
    "\n",
    "null_df.orderBy(col(\"id\").asc()).select(\"*\").show()\n",
    "\n",
    "null_df.orderBy(col(\"id\").desc()).select(\"*\").show()"
   ]
  },
  {
   "cell_type": "code",
   "execution_count": null,
   "metadata": {},
   "outputs": [],
   "source": []
  }
 ],
 "metadata": {
  "kernelspec": {
   "display_name": "base",
   "language": "python",
   "name": "python3"
  },
  "language_info": {
   "codemirror_mode": {
    "name": "ipython",
    "version": 3
   },
   "file_extension": ".py",
   "mimetype": "text/x-python",
   "name": "python",
   "nbconvert_exporter": "python",
   "pygments_lexer": "ipython3",
   "version": "3.10.9"
  }
 },
 "nbformat": 4,
 "nbformat_minor": 2
}
